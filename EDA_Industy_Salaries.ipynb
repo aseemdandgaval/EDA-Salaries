{
  "cells": [
    {
      "cell_type": "markdown",
      "metadata": {
        "id": "view-in-github",
        "colab_type": "text"
      },
      "source": [
        "<a href=\"https://colab.research.google.com/github/aseemdandgaval/EDA-Salaries/blob/main/EDA_Industy_Salaries.ipynb\" target=\"_parent\"><img src=\"https://colab.research.google.com/assets/colab-badge.svg\" alt=\"Open In Colab\"/></a>"
      ]
    },
    {
      "cell_type": "markdown",
      "metadata": {
        "id": "13gzeSaQxXZn"
      },
      "source": [
        "# **Exploratory Data Analysis: Data Professionals' Salaries in 2022**\n",
        "\n",
        "* This project is about an Exploratory Data Analysis on the salaries of working professionals in the data industry in India (2022).\n",
        "* The dataset is taken from **kaggle**, it is made by the author by scraping **Glassdoor**, which is a wesbite that allows users to anonymously access and publish information about compabies, jobs, salaries and more.\n",
        "* The dataset contains information about the companies, salaries, locations and job titles of the professionals.\n",
        "* The goal of this project is to do an **analysis of the data**, **extract information**, **visualize the data** by plotting charts and graphs for easier understanding and finally **gather some insights and make inferences**.\n",
        "* This will be done using Python and some of its libraries like **Pandas**, **NumPy**, **MatplotLib**, **Seaborn** and more.\n",
        "\n"
      ]
    },
    {
      "cell_type": "markdown",
      "source": [
        "## **Importing the neccessary libraries**"
      ],
      "metadata": {
        "id": "jfJ5Orq70u7M"
      }
    },
    {
      "cell_type": "code",
      "source": [
        "!pip install opendatasets --upgrade --quiet\n",
        "!pip install jovian --upgrade -q\n",
        "\n",
        "import os\n",
        "import jovian\n",
        "import matplotlib\n",
        "import numpy as np\n",
        "import pandas as pd\n",
        "import seaborn as sns\n",
        "import opendatasets as od\n",
        "import matplotlib.pyplot as plt\n",
        "from wordcloud import WordCloud"
      ],
      "metadata": {
        "id": "IbUTnP4v01Fr",
        "colab": {
          "base_uri": "https://localhost:8080/"
        },
        "outputId": "037185b8-a162-4d72-bdfd-9b4a13f2b121"
      },
      "execution_count": null,
      "outputs": [
        {
          "output_type": "stream",
          "name": "stdout",
          "text": [
            "\u001b[?25l\r\u001b[K     |████▊                           | 10 kB 18.2 MB/s eta 0:00:01\r\u001b[K     |█████████▌                      | 20 kB 7.8 MB/s eta 0:00:01\r\u001b[K     |██████████████▎                 | 30 kB 5.3 MB/s eta 0:00:01\r\u001b[K     |███████████████████             | 40 kB 4.9 MB/s eta 0:00:01\r\u001b[K     |███████████████████████▉        | 51 kB 2.2 MB/s eta 0:00:01\r\u001b[K     |████████████████████████████▋   | 61 kB 2.6 MB/s eta 0:00:01\r\u001b[K     |████████████████████████████████| 68 kB 2.1 MB/s \n",
            "\u001b[?25h  Building wheel for uuid (setup.py) ... \u001b[?25l\u001b[?25hdone\n"
          ]
        }
      ]
    },
    {
      "cell_type": "code",
      "source": [
        "# Setting parameters and styles for graphs\n",
        "\n",
        "%matplotlib inline\n",
        "\n",
        "sns.set_style('whitegrid')\n",
        "matplotlib.rcParams['font.size'] = 14\n",
        "matplotlib.rcParams['figure.figsize'] = (9, 5)\n",
        "matplotlib.rcParams['figure.facecolor'] = '#00000000'"
      ],
      "metadata": {
        "id": "iq9UKgc-4p78"
      },
      "execution_count": null,
      "outputs": []
    },
    {
      "cell_type": "markdown",
      "metadata": {
        "id": "X0COGtE-xXZp"
      },
      "source": [
        "## **Downloading the Dataset**\n",
        "\n",
        "* The first thing to do before starting the data analysis is to retrive the dataset, here its being done using the `opendatasets` library."
      ]
    },
    {
      "cell_type": "code",
      "execution_count": null,
      "metadata": {
        "colab": {
          "base_uri": "https://localhost:8080/"
        },
        "id": "1hHoYVbYxXZq",
        "outputId": "e821544c-6bdd-4782-90e9-cba4258a85da"
      },
      "outputs": [
        {
          "output_type": "stream",
          "name": "stdout",
          "text": [
            "Please provide your Kaggle credentials to download this dataset. Learn more: http://bit.ly/kaggle-creds\n",
            "Your Kaggle username: aseemdandgaval\n",
            "Your Kaggle Key: ··········\n",
            "Downloading analytics-industry-salaries-2022-india.zip to ./analytics-industry-salaries-2022-india\n"
          ]
        },
        {
          "output_type": "stream",
          "name": "stderr",
          "text": [
            "100%|██████████| 56.7k/56.7k [00:00<00:00, 9.42MB/s]"
          ]
        },
        {
          "output_type": "stream",
          "name": "stdout",
          "text": [
            "\n"
          ]
        },
        {
          "output_type": "stream",
          "name": "stderr",
          "text": [
            "\n"
          ]
        }
      ],
      "source": [
        "# Change this\n",
        "dataset_url = 'https://www.kaggle.com/iamsouravbanerjee/analytics-industry-salaries-2022-india' \n",
        "od.download(dataset_url)"
      ]
    },
    {
      "cell_type": "markdown",
      "metadata": {
        "id": "swpfNZgLxXZr"
      },
      "source": [
        "* The dataset has been downloaded and extracted."
      ]
    },
    {
      "cell_type": "markdown",
      "metadata": {
        "id": "8-nKytAKxXZu"
      },
      "source": [
        "## **Checking, Prepping and Cleaning the Dataset**\n",
        "\n",
        "\n"
      ]
    },
    {
      "cell_type": "markdown",
      "source": [
        "### **Checking the Dataset**"
      ],
      "metadata": {
        "id": "tTqCkU2ILVx-"
      }
    },
    {
      "cell_type": "markdown",
      "source": [
        "* The next step is to see the dataset by loading it into a `DataFrame` using pandas.\n",
        "* This is the part where we check the dataset, look how many rows and columns it has, what each of the columns contain or represent and also check the range of values.\n"
      ],
      "metadata": {
        "id": "fA5uXoYvK7Cu"
      }
    },
    {
      "cell_type": "code",
      "source": [
        "salaries_df = pd.read_csv('/content/analytics-industry-salaries-2022-india/Salary Dataset.csv')"
      ],
      "metadata": {
        "id": "v_k8-OYA5_hv"
      },
      "execution_count": null,
      "outputs": []
    },
    {
      "cell_type": "code",
      "execution_count": null,
      "metadata": {
        "colab": {
          "base_uri": "https://localhost:8080/",
          "height": 424
        },
        "id": "khvlyP4PxXZu",
        "outputId": "1215b887-3107-4dcc-b158-5072b04e1ad7"
      },
      "outputs": [
        {
          "output_type": "execute_result",
          "data": {
            "text/html": [
              "\n",
              "  <div id=\"df-c05dbdb5-5d68-4710-88c4-95e666aeb12c\">\n",
              "    <div class=\"colab-df-container\">\n",
              "      <div>\n",
              "<style scoped>\n",
              "    .dataframe tbody tr th:only-of-type {\n",
              "        vertical-align: middle;\n",
              "    }\n",
              "\n",
              "    .dataframe tbody tr th {\n",
              "        vertical-align: top;\n",
              "    }\n",
              "\n",
              "    .dataframe thead th {\n",
              "        text-align: right;\n",
              "    }\n",
              "</style>\n",
              "<table border=\"1\" class=\"dataframe\">\n",
              "  <thead>\n",
              "    <tr style=\"text-align: right;\">\n",
              "      <th></th>\n",
              "      <th>Company Name</th>\n",
              "      <th>Job Title</th>\n",
              "      <th>Salaries Reported</th>\n",
              "      <th>Location</th>\n",
              "      <th>Salary</th>\n",
              "    </tr>\n",
              "  </thead>\n",
              "  <tbody>\n",
              "    <tr>\n",
              "      <th>0</th>\n",
              "      <td>Mu Sigma</td>\n",
              "      <td>Data Scientist</td>\n",
              "      <td>105.0</td>\n",
              "      <td>Bangalore</td>\n",
              "      <td>₹6,48,573/yr</td>\n",
              "    </tr>\n",
              "    <tr>\n",
              "      <th>1</th>\n",
              "      <td>IBM</td>\n",
              "      <td>Data Scientist</td>\n",
              "      <td>95.0</td>\n",
              "      <td>Bangalore</td>\n",
              "      <td>₹11,91,950/yr</td>\n",
              "    </tr>\n",
              "    <tr>\n",
              "      <th>2</th>\n",
              "      <td>Tata Consultancy Services</td>\n",
              "      <td>Data Scientist</td>\n",
              "      <td>66.0</td>\n",
              "      <td>Bangalore</td>\n",
              "      <td>₹8,36,874/yr</td>\n",
              "    </tr>\n",
              "    <tr>\n",
              "      <th>3</th>\n",
              "      <td>Impact Analytics</td>\n",
              "      <td>Data Scientist</td>\n",
              "      <td>40.0</td>\n",
              "      <td>Bangalore</td>\n",
              "      <td>₹6,69,578/yr</td>\n",
              "    </tr>\n",
              "    <tr>\n",
              "      <th>4</th>\n",
              "      <td>Accenture</td>\n",
              "      <td>Data Scientist</td>\n",
              "      <td>32.0</td>\n",
              "      <td>Bangalore</td>\n",
              "      <td>₹9,44,110/yr</td>\n",
              "    </tr>\n",
              "    <tr>\n",
              "      <th>...</th>\n",
              "      <td>...</td>\n",
              "      <td>...</td>\n",
              "      <td>...</td>\n",
              "      <td>...</td>\n",
              "      <td>...</td>\n",
              "    </tr>\n",
              "    <tr>\n",
              "      <th>4339</th>\n",
              "      <td>TaiyōAI</td>\n",
              "      <td>Machine Learning Scientist</td>\n",
              "      <td>1.0</td>\n",
              "      <td>Mumbai</td>\n",
              "      <td>₹5,180/mo</td>\n",
              "    </tr>\n",
              "    <tr>\n",
              "      <th>4340</th>\n",
              "      <td>Decimal Point Analytics</td>\n",
              "      <td>Machine Learning Developer</td>\n",
              "      <td>1.0</td>\n",
              "      <td>Mumbai</td>\n",
              "      <td>₹7,51,286/yr</td>\n",
              "    </tr>\n",
              "    <tr>\n",
              "      <th>4341</th>\n",
              "      <td>MyWays</td>\n",
              "      <td>Machine Learning Developer</td>\n",
              "      <td>1.0</td>\n",
              "      <td>Mumbai</td>\n",
              "      <td>₹4,10,952/yr</td>\n",
              "    </tr>\n",
              "    <tr>\n",
              "      <th>4342</th>\n",
              "      <td>Market Pulse Technologies</td>\n",
              "      <td>Software Engineer - Machine Learning</td>\n",
              "      <td>1.0</td>\n",
              "      <td>Mumbai</td>\n",
              "      <td>₹16,12,324/yr</td>\n",
              "    </tr>\n",
              "    <tr>\n",
              "      <th>4343</th>\n",
              "      <td>vPhrase</td>\n",
              "      <td>Machine Learning Engineer</td>\n",
              "      <td>1.0</td>\n",
              "      <td>Mumbai</td>\n",
              "      <td>₹9,39,843/yr</td>\n",
              "    </tr>\n",
              "  </tbody>\n",
              "</table>\n",
              "<p>4344 rows × 5 columns</p>\n",
              "</div>\n",
              "      <button class=\"colab-df-convert\" onclick=\"convertToInteractive('df-c05dbdb5-5d68-4710-88c4-95e666aeb12c')\"\n",
              "              title=\"Convert this dataframe to an interactive table.\"\n",
              "              style=\"display:none;\">\n",
              "        \n",
              "  <svg xmlns=\"http://www.w3.org/2000/svg\" height=\"24px\"viewBox=\"0 0 24 24\"\n",
              "       width=\"24px\">\n",
              "    <path d=\"M0 0h24v24H0V0z\" fill=\"none\"/>\n",
              "    <path d=\"M18.56 5.44l.94 2.06.94-2.06 2.06-.94-2.06-.94-.94-2.06-.94 2.06-2.06.94zm-11 1L8.5 8.5l.94-2.06 2.06-.94-2.06-.94L8.5 2.5l-.94 2.06-2.06.94zm10 10l.94 2.06.94-2.06 2.06-.94-2.06-.94-.94-2.06-.94 2.06-2.06.94z\"/><path d=\"M17.41 7.96l-1.37-1.37c-.4-.4-.92-.59-1.43-.59-.52 0-1.04.2-1.43.59L10.3 9.45l-7.72 7.72c-.78.78-.78 2.05 0 2.83L4 21.41c.39.39.9.59 1.41.59.51 0 1.02-.2 1.41-.59l7.78-7.78 2.81-2.81c.8-.78.8-2.07 0-2.86zM5.41 20L4 18.59l7.72-7.72 1.47 1.35L5.41 20z\"/>\n",
              "  </svg>\n",
              "      </button>\n",
              "      \n",
              "  <style>\n",
              "    .colab-df-container {\n",
              "      display:flex;\n",
              "      flex-wrap:wrap;\n",
              "      gap: 12px;\n",
              "    }\n",
              "\n",
              "    .colab-df-convert {\n",
              "      background-color: #E8F0FE;\n",
              "      border: none;\n",
              "      border-radius: 50%;\n",
              "      cursor: pointer;\n",
              "      display: none;\n",
              "      fill: #1967D2;\n",
              "      height: 32px;\n",
              "      padding: 0 0 0 0;\n",
              "      width: 32px;\n",
              "    }\n",
              "\n",
              "    .colab-df-convert:hover {\n",
              "      background-color: #E2EBFA;\n",
              "      box-shadow: 0px 1px 2px rgba(60, 64, 67, 0.3), 0px 1px 3px 1px rgba(60, 64, 67, 0.15);\n",
              "      fill: #174EA6;\n",
              "    }\n",
              "\n",
              "    [theme=dark] .colab-df-convert {\n",
              "      background-color: #3B4455;\n",
              "      fill: #D2E3FC;\n",
              "    }\n",
              "\n",
              "    [theme=dark] .colab-df-convert:hover {\n",
              "      background-color: #434B5C;\n",
              "      box-shadow: 0px 1px 3px 1px rgba(0, 0, 0, 0.15);\n",
              "      filter: drop-shadow(0px 1px 2px rgba(0, 0, 0, 0.3));\n",
              "      fill: #FFFFFF;\n",
              "    }\n",
              "  </style>\n",
              "\n",
              "      <script>\n",
              "        const buttonEl =\n",
              "          document.querySelector('#df-c05dbdb5-5d68-4710-88c4-95e666aeb12c button.colab-df-convert');\n",
              "        buttonEl.style.display =\n",
              "          google.colab.kernel.accessAllowed ? 'block' : 'none';\n",
              "\n",
              "        async function convertToInteractive(key) {\n",
              "          const element = document.querySelector('#df-c05dbdb5-5d68-4710-88c4-95e666aeb12c');\n",
              "          const dataTable =\n",
              "            await google.colab.kernel.invokeFunction('convertToInteractive',\n",
              "                                                     [key], {});\n",
              "          if (!dataTable) return;\n",
              "\n",
              "          const docLinkHtml = 'Like what you see? Visit the ' +\n",
              "            '<a target=\"_blank\" href=https://colab.research.google.com/notebooks/data_table.ipynb>data table notebook</a>'\n",
              "            + ' to learn more about interactive tables.';\n",
              "          element.innerHTML = '';\n",
              "          dataTable['output_type'] = 'display_data';\n",
              "          await google.colab.output.renderOutput(dataTable, element);\n",
              "          const docLink = document.createElement('div');\n",
              "          docLink.innerHTML = docLinkHtml;\n",
              "          element.appendChild(docLink);\n",
              "        }\n",
              "      </script>\n",
              "    </div>\n",
              "  </div>\n",
              "  "
            ],
            "text/plain": [
              "                   Company Name  ...         Salary\n",
              "0                      Mu Sigma  ...   ₹6,48,573/yr\n",
              "1                           IBM  ...  ₹11,91,950/yr\n",
              "2     Tata Consultancy Services  ...   ₹8,36,874/yr\n",
              "3              Impact Analytics  ...   ₹6,69,578/yr\n",
              "4                     Accenture  ...   ₹9,44,110/yr\n",
              "...                         ...  ...            ...\n",
              "4339                    TaiyōAI  ...      ₹5,180/mo\n",
              "4340    Decimal Point Analytics  ...   ₹7,51,286/yr\n",
              "4341                     MyWays  ...   ₹4,10,952/yr\n",
              "4342  Market Pulse Technologies  ...  ₹16,12,324/yr\n",
              "4343                    vPhrase  ...   ₹9,39,843/yr\n",
              "\n",
              "[4344 rows x 5 columns]"
            ]
          },
          "metadata": {},
          "execution_count": 7
        }
      ],
      "source": [
        "salaries_df"
      ]
    },
    {
      "cell_type": "code",
      "source": [
        "salaries_df.shape"
      ],
      "metadata": {
        "colab": {
          "base_uri": "https://localhost:8080/"
        },
        "id": "ljY8MRkL6ilX",
        "outputId": "00e4a3b1-fa31-4968-9453-4458b82c8f4c"
      },
      "execution_count": null,
      "outputs": [
        {
          "output_type": "execute_result",
          "data": {
            "text/plain": [
              "(4344, 5)"
            ]
          },
          "metadata": {},
          "execution_count": 8
        }
      ]
    },
    {
      "cell_type": "code",
      "source": [
        "salaries_df.columns"
      ],
      "metadata": {
        "colab": {
          "base_uri": "https://localhost:8080/"
        },
        "id": "Im-4Tcdw7WYa",
        "outputId": "3f4221b9-4d2b-4d28-d15c-0f2e3da09563"
      },
      "execution_count": null,
      "outputs": [
        {
          "output_type": "execute_result",
          "data": {
            "text/plain": [
              "Index(['Company Name', 'Job Title', 'Salaries Reported', 'Location', 'Salary'], dtype='object')"
            ]
          },
          "metadata": {},
          "execution_count": 9
        }
      ]
    },
    {
      "cell_type": "code",
      "source": [
        "salaries_df.info()"
      ],
      "metadata": {
        "colab": {
          "base_uri": "https://localhost:8080/"
        },
        "id": "lTK1WUUp7WV8",
        "outputId": "11d8e519-e61c-4e0e-c207-c96042f1e01d"
      },
      "execution_count": null,
      "outputs": [
        {
          "output_type": "stream",
          "name": "stdout",
          "text": [
            "<class 'pandas.core.frame.DataFrame'>\n",
            "RangeIndex: 4344 entries, 0 to 4343\n",
            "Data columns (total 5 columns):\n",
            " #   Column             Non-Null Count  Dtype  \n",
            "---  ------             --------------  -----  \n",
            " 0   Company Name       4341 non-null   object \n",
            " 1   Job Title          4344 non-null   object \n",
            " 2   Salaries Reported  4342 non-null   float64\n",
            " 3   Location           4344 non-null   object \n",
            " 4   Salary             4344 non-null   object \n",
            "dtypes: float64(1), object(4)\n",
            "memory usage: 169.8+ KB\n"
          ]
        }
      ]
    },
    {
      "cell_type": "markdown",
      "source": [
        "* So the dataset has **4344 rows** and **5 columns**.\n",
        "* The columns contain information of the **Company Name**, **Job Title**, **Salaries Reported**, **Location** and the **Salary** of the working professional.\n",
        "* The Salary column will need to be prepped and converted into a number (float64) instead of a pandas object."
      ],
      "metadata": {
        "id": "G86AaKSYLb0S"
      }
    },
    {
      "cell_type": "markdown",
      "source": [
        "### **Cleaning the data**"
      ],
      "metadata": {
        "id": "Gz3_mgR0JVBO"
      }
    },
    {
      "cell_type": "markdown",
      "source": [
        "* It is very important to also know what data is **incorrect and/or missing** from the dataset .\n",
        "* Missing data is **very common** in real world datasets.\n",
        "* There might be a typing mistake, the person might have forgotten to input the data or there might be a valid reason to not enter the values at some locations.\n"
      ],
      "metadata": {
        "id": "KofdlYlLJcDc"
      }
    },
    {
      "cell_type": "code",
      "source": [
        "salaries_df.isnull().sum()"
      ],
      "metadata": {
        "colab": {
          "base_uri": "https://localhost:8080/"
        },
        "id": "GQBDVlA97WRZ",
        "outputId": "8689b63c-5853-45d5-e9a8-220d8ded578d"
      },
      "execution_count": null,
      "outputs": [
        {
          "output_type": "execute_result",
          "data": {
            "text/plain": [
              "Company Name         3\n",
              "Job Title            0\n",
              "Salaries Reported    2\n",
              "Location             0\n",
              "Salary               0\n",
              "dtype: int64"
            ]
          },
          "metadata": {},
          "execution_count": 11
        }
      ]
    },
    {
      "cell_type": "markdown",
      "source": [
        "* This dataset is **very clean**, and only 5 values are missing out of 4300~.\n",
        "* Generally, if a significant amount of data is missing, we can replace it by using a bunch of techniques.\n",
        "* Since only 5 values are missing, we can just **remove the associated colums altogether**, and this will not affect the analysis at all."
      ],
      "metadata": {
        "id": "_er0DMIiUH5h"
      }
    },
    {
      "cell_type": "code",
      "source": [
        "# Checking the rows for missing values\n",
        "\n",
        "salaries_df.loc[salaries_df['Salaries Reported'].isna()]"
      ],
      "metadata": {
        "colab": {
          "base_uri": "https://localhost:8080/",
          "height": 112
        },
        "id": "Kx1qn09IFsKq",
        "outputId": "ef1ec617-6013-4157-a371-6b89384181fd"
      },
      "execution_count": null,
      "outputs": [
        {
          "output_type": "execute_result",
          "data": {
            "text/html": [
              "\n",
              "  <div id=\"df-4f011542-af3b-486c-8480-324f262c105d\">\n",
              "    <div class=\"colab-df-container\">\n",
              "      <div>\n",
              "<style scoped>\n",
              "    .dataframe tbody tr th:only-of-type {\n",
              "        vertical-align: middle;\n",
              "    }\n",
              "\n",
              "    .dataframe tbody tr th {\n",
              "        vertical-align: top;\n",
              "    }\n",
              "\n",
              "    .dataframe thead th {\n",
              "        text-align: right;\n",
              "    }\n",
              "</style>\n",
              "<table border=\"1\" class=\"dataframe\">\n",
              "  <thead>\n",
              "    <tr style=\"text-align: right;\">\n",
              "      <th></th>\n",
              "      <th>Company Name</th>\n",
              "      <th>Job Title</th>\n",
              "      <th>Salaries Reported</th>\n",
              "      <th>Location</th>\n",
              "      <th>Salary</th>\n",
              "    </tr>\n",
              "  </thead>\n",
              "  <tbody>\n",
              "    <tr>\n",
              "      <th>4027</th>\n",
              "      <td>First Student Data Scientist</td>\n",
              "      <td>Data Analyst</td>\n",
              "      <td>NaN</td>\n",
              "      <td>Pune</td>\n",
              "      <td>₹4,53,300/yr</td>\n",
              "    </tr>\n",
              "    <tr>\n",
              "      <th>4237</th>\n",
              "      <td>Amazon</td>\n",
              "      <td>Machine Learning Data Associate II</td>\n",
              "      <td>NaN</td>\n",
              "      <td>New Delhi</td>\n",
              "      <td>₹3,29,439/yr</td>\n",
              "    </tr>\n",
              "  </tbody>\n",
              "</table>\n",
              "</div>\n",
              "      <button class=\"colab-df-convert\" onclick=\"convertToInteractive('df-4f011542-af3b-486c-8480-324f262c105d')\"\n",
              "              title=\"Convert this dataframe to an interactive table.\"\n",
              "              style=\"display:none;\">\n",
              "        \n",
              "  <svg xmlns=\"http://www.w3.org/2000/svg\" height=\"24px\"viewBox=\"0 0 24 24\"\n",
              "       width=\"24px\">\n",
              "    <path d=\"M0 0h24v24H0V0z\" fill=\"none\"/>\n",
              "    <path d=\"M18.56 5.44l.94 2.06.94-2.06 2.06-.94-2.06-.94-.94-2.06-.94 2.06-2.06.94zm-11 1L8.5 8.5l.94-2.06 2.06-.94-2.06-.94L8.5 2.5l-.94 2.06-2.06.94zm10 10l.94 2.06.94-2.06 2.06-.94-2.06-.94-.94-2.06-.94 2.06-2.06.94z\"/><path d=\"M17.41 7.96l-1.37-1.37c-.4-.4-.92-.59-1.43-.59-.52 0-1.04.2-1.43.59L10.3 9.45l-7.72 7.72c-.78.78-.78 2.05 0 2.83L4 21.41c.39.39.9.59 1.41.59.51 0 1.02-.2 1.41-.59l7.78-7.78 2.81-2.81c.8-.78.8-2.07 0-2.86zM5.41 20L4 18.59l7.72-7.72 1.47 1.35L5.41 20z\"/>\n",
              "  </svg>\n",
              "      </button>\n",
              "      \n",
              "  <style>\n",
              "    .colab-df-container {\n",
              "      display:flex;\n",
              "      flex-wrap:wrap;\n",
              "      gap: 12px;\n",
              "    }\n",
              "\n",
              "    .colab-df-convert {\n",
              "      background-color: #E8F0FE;\n",
              "      border: none;\n",
              "      border-radius: 50%;\n",
              "      cursor: pointer;\n",
              "      display: none;\n",
              "      fill: #1967D2;\n",
              "      height: 32px;\n",
              "      padding: 0 0 0 0;\n",
              "      width: 32px;\n",
              "    }\n",
              "\n",
              "    .colab-df-convert:hover {\n",
              "      background-color: #E2EBFA;\n",
              "      box-shadow: 0px 1px 2px rgba(60, 64, 67, 0.3), 0px 1px 3px 1px rgba(60, 64, 67, 0.15);\n",
              "      fill: #174EA6;\n",
              "    }\n",
              "\n",
              "    [theme=dark] .colab-df-convert {\n",
              "      background-color: #3B4455;\n",
              "      fill: #D2E3FC;\n",
              "    }\n",
              "\n",
              "    [theme=dark] .colab-df-convert:hover {\n",
              "      background-color: #434B5C;\n",
              "      box-shadow: 0px 1px 3px 1px rgba(0, 0, 0, 0.15);\n",
              "      filter: drop-shadow(0px 1px 2px rgba(0, 0, 0, 0.3));\n",
              "      fill: #FFFFFF;\n",
              "    }\n",
              "  </style>\n",
              "\n",
              "      <script>\n",
              "        const buttonEl =\n",
              "          document.querySelector('#df-4f011542-af3b-486c-8480-324f262c105d button.colab-df-convert');\n",
              "        buttonEl.style.display =\n",
              "          google.colab.kernel.accessAllowed ? 'block' : 'none';\n",
              "\n",
              "        async function convertToInteractive(key) {\n",
              "          const element = document.querySelector('#df-4f011542-af3b-486c-8480-324f262c105d');\n",
              "          const dataTable =\n",
              "            await google.colab.kernel.invokeFunction('convertToInteractive',\n",
              "                                                     [key], {});\n",
              "          if (!dataTable) return;\n",
              "\n",
              "          const docLinkHtml = 'Like what you see? Visit the ' +\n",
              "            '<a target=\"_blank\" href=https://colab.research.google.com/notebooks/data_table.ipynb>data table notebook</a>'\n",
              "            + ' to learn more about interactive tables.';\n",
              "          element.innerHTML = '';\n",
              "          dataTable['output_type'] = 'display_data';\n",
              "          await google.colab.output.renderOutput(dataTable, element);\n",
              "          const docLink = document.createElement('div');\n",
              "          docLink.innerHTML = docLinkHtml;\n",
              "          element.appendChild(docLink);\n",
              "        }\n",
              "      </script>\n",
              "    </div>\n",
              "  </div>\n",
              "  "
            ],
            "text/plain": [
              "                      Company Name  ...        Salary\n",
              "4027  First Student Data Scientist  ...  ₹4,53,300/yr\n",
              "4237                        Amazon  ...  ₹3,29,439/yr\n",
              "\n",
              "[2 rows x 5 columns]"
            ]
          },
          "metadata": {},
          "execution_count": 12
        }
      ]
    },
    {
      "cell_type": "code",
      "source": [
        "salaries_df.loc[salaries_df['Company Name'].isna()]"
      ],
      "metadata": {
        "colab": {
          "base_uri": "https://localhost:8080/",
          "height": 144
        },
        "id": "fhD2VS1-FS3R",
        "outputId": "29b874cc-d373-40bb-9660-34984a973295"
      },
      "execution_count": null,
      "outputs": [
        {
          "output_type": "execute_result",
          "data": {
            "text/html": [
              "\n",
              "  <div id=\"df-459a6fc9-97e6-454b-90da-df8a3d45c6a8\">\n",
              "    <div class=\"colab-df-container\">\n",
              "      <div>\n",
              "<style scoped>\n",
              "    .dataframe tbody tr th:only-of-type {\n",
              "        vertical-align: middle;\n",
              "    }\n",
              "\n",
              "    .dataframe tbody tr th {\n",
              "        vertical-align: top;\n",
              "    }\n",
              "\n",
              "    .dataframe thead th {\n",
              "        text-align: right;\n",
              "    }\n",
              "</style>\n",
              "<table border=\"1\" class=\"dataframe\">\n",
              "  <thead>\n",
              "    <tr style=\"text-align: right;\">\n",
              "      <th></th>\n",
              "      <th>Company Name</th>\n",
              "      <th>Job Title</th>\n",
              "      <th>Salaries Reported</th>\n",
              "      <th>Location</th>\n",
              "      <th>Salary</th>\n",
              "    </tr>\n",
              "  </thead>\n",
              "  <tbody>\n",
              "    <tr>\n",
              "      <th>2279</th>\n",
              "      <td>NaN</td>\n",
              "      <td>Data Analyst</td>\n",
              "      <td>1.0</td>\n",
              "      <td>Pune</td>\n",
              "      <td>₹23,500/mo</td>\n",
              "    </tr>\n",
              "    <tr>\n",
              "      <th>3227</th>\n",
              "      <td>NaN</td>\n",
              "      <td>Data Engineer</td>\n",
              "      <td>1.0</td>\n",
              "      <td>Pune</td>\n",
              "      <td>₹26,20,604/yr</td>\n",
              "    </tr>\n",
              "    <tr>\n",
              "      <th>4026</th>\n",
              "      <td>NaN</td>\n",
              "      <td>Machine Learning Engineer/Data Scientist</td>\n",
              "      <td>1.0</td>\n",
              "      <td>Pune</td>\n",
              "      <td>₹56,465/mo</td>\n",
              "    </tr>\n",
              "  </tbody>\n",
              "</table>\n",
              "</div>\n",
              "      <button class=\"colab-df-convert\" onclick=\"convertToInteractive('df-459a6fc9-97e6-454b-90da-df8a3d45c6a8')\"\n",
              "              title=\"Convert this dataframe to an interactive table.\"\n",
              "              style=\"display:none;\">\n",
              "        \n",
              "  <svg xmlns=\"http://www.w3.org/2000/svg\" height=\"24px\"viewBox=\"0 0 24 24\"\n",
              "       width=\"24px\">\n",
              "    <path d=\"M0 0h24v24H0V0z\" fill=\"none\"/>\n",
              "    <path d=\"M18.56 5.44l.94 2.06.94-2.06 2.06-.94-2.06-.94-.94-2.06-.94 2.06-2.06.94zm-11 1L8.5 8.5l.94-2.06 2.06-.94-2.06-.94L8.5 2.5l-.94 2.06-2.06.94zm10 10l.94 2.06.94-2.06 2.06-.94-2.06-.94-.94-2.06-.94 2.06-2.06.94z\"/><path d=\"M17.41 7.96l-1.37-1.37c-.4-.4-.92-.59-1.43-.59-.52 0-1.04.2-1.43.59L10.3 9.45l-7.72 7.72c-.78.78-.78 2.05 0 2.83L4 21.41c.39.39.9.59 1.41.59.51 0 1.02-.2 1.41-.59l7.78-7.78 2.81-2.81c.8-.78.8-2.07 0-2.86zM5.41 20L4 18.59l7.72-7.72 1.47 1.35L5.41 20z\"/>\n",
              "  </svg>\n",
              "      </button>\n",
              "      \n",
              "  <style>\n",
              "    .colab-df-container {\n",
              "      display:flex;\n",
              "      flex-wrap:wrap;\n",
              "      gap: 12px;\n",
              "    }\n",
              "\n",
              "    .colab-df-convert {\n",
              "      background-color: #E8F0FE;\n",
              "      border: none;\n",
              "      border-radius: 50%;\n",
              "      cursor: pointer;\n",
              "      display: none;\n",
              "      fill: #1967D2;\n",
              "      height: 32px;\n",
              "      padding: 0 0 0 0;\n",
              "      width: 32px;\n",
              "    }\n",
              "\n",
              "    .colab-df-convert:hover {\n",
              "      background-color: #E2EBFA;\n",
              "      box-shadow: 0px 1px 2px rgba(60, 64, 67, 0.3), 0px 1px 3px 1px rgba(60, 64, 67, 0.15);\n",
              "      fill: #174EA6;\n",
              "    }\n",
              "\n",
              "    [theme=dark] .colab-df-convert {\n",
              "      background-color: #3B4455;\n",
              "      fill: #D2E3FC;\n",
              "    }\n",
              "\n",
              "    [theme=dark] .colab-df-convert:hover {\n",
              "      background-color: #434B5C;\n",
              "      box-shadow: 0px 1px 3px 1px rgba(0, 0, 0, 0.15);\n",
              "      filter: drop-shadow(0px 1px 2px rgba(0, 0, 0, 0.3));\n",
              "      fill: #FFFFFF;\n",
              "    }\n",
              "  </style>\n",
              "\n",
              "      <script>\n",
              "        const buttonEl =\n",
              "          document.querySelector('#df-459a6fc9-97e6-454b-90da-df8a3d45c6a8 button.colab-df-convert');\n",
              "        buttonEl.style.display =\n",
              "          google.colab.kernel.accessAllowed ? 'block' : 'none';\n",
              "\n",
              "        async function convertToInteractive(key) {\n",
              "          const element = document.querySelector('#df-459a6fc9-97e6-454b-90da-df8a3d45c6a8');\n",
              "          const dataTable =\n",
              "            await google.colab.kernel.invokeFunction('convertToInteractive',\n",
              "                                                     [key], {});\n",
              "          if (!dataTable) return;\n",
              "\n",
              "          const docLinkHtml = 'Like what you see? Visit the ' +\n",
              "            '<a target=\"_blank\" href=https://colab.research.google.com/notebooks/data_table.ipynb>data table notebook</a>'\n",
              "            + ' to learn more about interactive tables.';\n",
              "          element.innerHTML = '';\n",
              "          dataTable['output_type'] = 'display_data';\n",
              "          await google.colab.output.renderOutput(dataTable, element);\n",
              "          const docLink = document.createElement('div');\n",
              "          docLink.innerHTML = docLinkHtml;\n",
              "          element.appendChild(docLink);\n",
              "        }\n",
              "      </script>\n",
              "    </div>\n",
              "  </div>\n",
              "  "
            ],
            "text/plain": [
              "     Company Name  ...         Salary\n",
              "2279          NaN  ...     ₹23,500/mo\n",
              "3227          NaN  ...  ₹26,20,604/yr\n",
              "4026          NaN  ...     ₹56,465/mo\n",
              "\n",
              "[3 rows x 5 columns]"
            ]
          },
          "metadata": {},
          "execution_count": 13
        }
      ]
    },
    {
      "cell_type": "code",
      "source": [
        "# Dropping the unwanted rows\n",
        "\n",
        "salaries_df.dropna(subset = ['Salaries Reported'], inplace=True)\n",
        "salaries_df.dropna(subset = ['Company Name'], inplace=True)"
      ],
      "metadata": {
        "id": "fj_yOpEfVhf4"
      },
      "execution_count": null,
      "outputs": []
    },
    {
      "cell_type": "code",
      "source": [
        "salaries_df.shape"
      ],
      "metadata": {
        "colab": {
          "base_uri": "https://localhost:8080/"
        },
        "id": "FSq3vd38V_TV",
        "outputId": "3c5c9005-60fd-4397-8a42-68589e033e09"
      },
      "execution_count": null,
      "outputs": [
        {
          "output_type": "execute_result",
          "data": {
            "text/plain": [
              "(4339, 5)"
            ]
          },
          "metadata": {},
          "execution_count": 15
        }
      ]
    },
    {
      "cell_type": "markdown",
      "source": [
        "* The unwanted rows are now removed from the dataset."
      ],
      "metadata": {
        "id": "JvHhTpMbWD7I"
      }
    },
    {
      "cell_type": "markdown",
      "source": [
        "### **Prepping the Dataset**"
      ],
      "metadata": {
        "id": "NzDIq2_CVg5D"
      }
    },
    {
      "cell_type": "markdown",
      "source": [
        "**Prepping the 'Salary' Column**"
      ],
      "metadata": {
        "id": "QWLdpX9Gc34a"
      }
    },
    {
      "cell_type": "code",
      "source": [
        "salaries_df"
      ],
      "metadata": {
        "colab": {
          "base_uri": "https://localhost:8080/",
          "height": 424
        },
        "id": "fISGrq6Ng3kD",
        "outputId": "9595c698-750d-442f-af3e-55d279e6ae54"
      },
      "execution_count": null,
      "outputs": [
        {
          "output_type": "execute_result",
          "data": {
            "text/html": [
              "\n",
              "  <div id=\"df-626e329d-1b64-41fe-ba25-33b82023eb9c\">\n",
              "    <div class=\"colab-df-container\">\n",
              "      <div>\n",
              "<style scoped>\n",
              "    .dataframe tbody tr th:only-of-type {\n",
              "        vertical-align: middle;\n",
              "    }\n",
              "\n",
              "    .dataframe tbody tr th {\n",
              "        vertical-align: top;\n",
              "    }\n",
              "\n",
              "    .dataframe thead th {\n",
              "        text-align: right;\n",
              "    }\n",
              "</style>\n",
              "<table border=\"1\" class=\"dataframe\">\n",
              "  <thead>\n",
              "    <tr style=\"text-align: right;\">\n",
              "      <th></th>\n",
              "      <th>Company Name</th>\n",
              "      <th>Job Title</th>\n",
              "      <th>Salaries Reported</th>\n",
              "      <th>Location</th>\n",
              "      <th>Salary</th>\n",
              "    </tr>\n",
              "  </thead>\n",
              "  <tbody>\n",
              "    <tr>\n",
              "      <th>0</th>\n",
              "      <td>Mu Sigma</td>\n",
              "      <td>Data Scientist</td>\n",
              "      <td>105.0</td>\n",
              "      <td>Bangalore</td>\n",
              "      <td>₹6,48,573/yr</td>\n",
              "    </tr>\n",
              "    <tr>\n",
              "      <th>1</th>\n",
              "      <td>IBM</td>\n",
              "      <td>Data Scientist</td>\n",
              "      <td>95.0</td>\n",
              "      <td>Bangalore</td>\n",
              "      <td>₹11,91,950/yr</td>\n",
              "    </tr>\n",
              "    <tr>\n",
              "      <th>2</th>\n",
              "      <td>Tata Consultancy Services</td>\n",
              "      <td>Data Scientist</td>\n",
              "      <td>66.0</td>\n",
              "      <td>Bangalore</td>\n",
              "      <td>₹8,36,874/yr</td>\n",
              "    </tr>\n",
              "    <tr>\n",
              "      <th>3</th>\n",
              "      <td>Impact Analytics</td>\n",
              "      <td>Data Scientist</td>\n",
              "      <td>40.0</td>\n",
              "      <td>Bangalore</td>\n",
              "      <td>₹6,69,578/yr</td>\n",
              "    </tr>\n",
              "    <tr>\n",
              "      <th>4</th>\n",
              "      <td>Accenture</td>\n",
              "      <td>Data Scientist</td>\n",
              "      <td>32.0</td>\n",
              "      <td>Bangalore</td>\n",
              "      <td>₹9,44,110/yr</td>\n",
              "    </tr>\n",
              "    <tr>\n",
              "      <th>...</th>\n",
              "      <td>...</td>\n",
              "      <td>...</td>\n",
              "      <td>...</td>\n",
              "      <td>...</td>\n",
              "      <td>...</td>\n",
              "    </tr>\n",
              "    <tr>\n",
              "      <th>4339</th>\n",
              "      <td>TaiyōAI</td>\n",
              "      <td>Machine Learning Scientist</td>\n",
              "      <td>1.0</td>\n",
              "      <td>Mumbai</td>\n",
              "      <td>₹5,180/mo</td>\n",
              "    </tr>\n",
              "    <tr>\n",
              "      <th>4340</th>\n",
              "      <td>Decimal Point Analytics</td>\n",
              "      <td>Machine Learning Developer</td>\n",
              "      <td>1.0</td>\n",
              "      <td>Mumbai</td>\n",
              "      <td>₹7,51,286/yr</td>\n",
              "    </tr>\n",
              "    <tr>\n",
              "      <th>4341</th>\n",
              "      <td>MyWays</td>\n",
              "      <td>Machine Learning Developer</td>\n",
              "      <td>1.0</td>\n",
              "      <td>Mumbai</td>\n",
              "      <td>₹4,10,952/yr</td>\n",
              "    </tr>\n",
              "    <tr>\n",
              "      <th>4342</th>\n",
              "      <td>Market Pulse Technologies</td>\n",
              "      <td>Software Engineer - Machine Learning</td>\n",
              "      <td>1.0</td>\n",
              "      <td>Mumbai</td>\n",
              "      <td>₹16,12,324/yr</td>\n",
              "    </tr>\n",
              "    <tr>\n",
              "      <th>4343</th>\n",
              "      <td>vPhrase</td>\n",
              "      <td>Machine Learning Engineer</td>\n",
              "      <td>1.0</td>\n",
              "      <td>Mumbai</td>\n",
              "      <td>₹9,39,843/yr</td>\n",
              "    </tr>\n",
              "  </tbody>\n",
              "</table>\n",
              "<p>4339 rows × 5 columns</p>\n",
              "</div>\n",
              "      <button class=\"colab-df-convert\" onclick=\"convertToInteractive('df-626e329d-1b64-41fe-ba25-33b82023eb9c')\"\n",
              "              title=\"Convert this dataframe to an interactive table.\"\n",
              "              style=\"display:none;\">\n",
              "        \n",
              "  <svg xmlns=\"http://www.w3.org/2000/svg\" height=\"24px\"viewBox=\"0 0 24 24\"\n",
              "       width=\"24px\">\n",
              "    <path d=\"M0 0h24v24H0V0z\" fill=\"none\"/>\n",
              "    <path d=\"M18.56 5.44l.94 2.06.94-2.06 2.06-.94-2.06-.94-.94-2.06-.94 2.06-2.06.94zm-11 1L8.5 8.5l.94-2.06 2.06-.94-2.06-.94L8.5 2.5l-.94 2.06-2.06.94zm10 10l.94 2.06.94-2.06 2.06-.94-2.06-.94-.94-2.06-.94 2.06-2.06.94z\"/><path d=\"M17.41 7.96l-1.37-1.37c-.4-.4-.92-.59-1.43-.59-.52 0-1.04.2-1.43.59L10.3 9.45l-7.72 7.72c-.78.78-.78 2.05 0 2.83L4 21.41c.39.39.9.59 1.41.59.51 0 1.02-.2 1.41-.59l7.78-7.78 2.81-2.81c.8-.78.8-2.07 0-2.86zM5.41 20L4 18.59l7.72-7.72 1.47 1.35L5.41 20z\"/>\n",
              "  </svg>\n",
              "      </button>\n",
              "      \n",
              "  <style>\n",
              "    .colab-df-container {\n",
              "      display:flex;\n",
              "      flex-wrap:wrap;\n",
              "      gap: 12px;\n",
              "    }\n",
              "\n",
              "    .colab-df-convert {\n",
              "      background-color: #E8F0FE;\n",
              "      border: none;\n",
              "      border-radius: 50%;\n",
              "      cursor: pointer;\n",
              "      display: none;\n",
              "      fill: #1967D2;\n",
              "      height: 32px;\n",
              "      padding: 0 0 0 0;\n",
              "      width: 32px;\n",
              "    }\n",
              "\n",
              "    .colab-df-convert:hover {\n",
              "      background-color: #E2EBFA;\n",
              "      box-shadow: 0px 1px 2px rgba(60, 64, 67, 0.3), 0px 1px 3px 1px rgba(60, 64, 67, 0.15);\n",
              "      fill: #174EA6;\n",
              "    }\n",
              "\n",
              "    [theme=dark] .colab-df-convert {\n",
              "      background-color: #3B4455;\n",
              "      fill: #D2E3FC;\n",
              "    }\n",
              "\n",
              "    [theme=dark] .colab-df-convert:hover {\n",
              "      background-color: #434B5C;\n",
              "      box-shadow: 0px 1px 3px 1px rgba(0, 0, 0, 0.15);\n",
              "      filter: drop-shadow(0px 1px 2px rgba(0, 0, 0, 0.3));\n",
              "      fill: #FFFFFF;\n",
              "    }\n",
              "  </style>\n",
              "\n",
              "      <script>\n",
              "        const buttonEl =\n",
              "          document.querySelector('#df-626e329d-1b64-41fe-ba25-33b82023eb9c button.colab-df-convert');\n",
              "        buttonEl.style.display =\n",
              "          google.colab.kernel.accessAllowed ? 'block' : 'none';\n",
              "\n",
              "        async function convertToInteractive(key) {\n",
              "          const element = document.querySelector('#df-626e329d-1b64-41fe-ba25-33b82023eb9c');\n",
              "          const dataTable =\n",
              "            await google.colab.kernel.invokeFunction('convertToInteractive',\n",
              "                                                     [key], {});\n",
              "          if (!dataTable) return;\n",
              "\n",
              "          const docLinkHtml = 'Like what you see? Visit the ' +\n",
              "            '<a target=\"_blank\" href=https://colab.research.google.com/notebooks/data_table.ipynb>data table notebook</a>'\n",
              "            + ' to learn more about interactive tables.';\n",
              "          element.innerHTML = '';\n",
              "          dataTable['output_type'] = 'display_data';\n",
              "          await google.colab.output.renderOutput(dataTable, element);\n",
              "          const docLink = document.createElement('div');\n",
              "          docLink.innerHTML = docLinkHtml;\n",
              "          element.appendChild(docLink);\n",
              "        }\n",
              "      </script>\n",
              "    </div>\n",
              "  </div>\n",
              "  "
            ],
            "text/plain": [
              "                   Company Name  ...         Salary\n",
              "0                      Mu Sigma  ...   ₹6,48,573/yr\n",
              "1                           IBM  ...  ₹11,91,950/yr\n",
              "2     Tata Consultancy Services  ...   ₹8,36,874/yr\n",
              "3              Impact Analytics  ...   ₹6,69,578/yr\n",
              "4                     Accenture  ...   ₹9,44,110/yr\n",
              "...                         ...  ...            ...\n",
              "4339                    TaiyōAI  ...      ₹5,180/mo\n",
              "4340    Decimal Point Analytics  ...   ₹7,51,286/yr\n",
              "4341                     MyWays  ...   ₹4,10,952/yr\n",
              "4342  Market Pulse Technologies  ...  ₹16,12,324/yr\n",
              "4343                    vPhrase  ...   ₹9,39,843/yr\n",
              "\n",
              "[4339 rows x 5 columns]"
            ]
          },
          "metadata": {},
          "execution_count": 16
        }
      ]
    },
    {
      "cell_type": "markdown",
      "source": [
        "* In this dataset, the salaries are very important.\n",
        "* The salaries are not in one currency.\n",
        "* Some are in **Rupees(₹)**, some in **Pounds(£)** and some in **Dollars($)**.\n",
        "* Also some salaries are given **per month** and some are given **yearly**.\n",
        "* The salaries will need to be converted into **Rupees per year**, so that we can make inferences and insights much easier and that are accurate."
      ],
      "metadata": {
        "id": "tLcxmeGdWaSn"
      }
    },
    {
      "cell_type": "code",
      "source": [
        "# Extracting and splitting the currency, duration and the salary amount from the Salary column\n",
        "\n",
        "salaries_df['Currency'] = salaries_df['Salary'].str.slice(start=0,stop=1)\n",
        "salaries_df['Duration'] = salaries_df['Salary'].str.split(\"/\", n=1, expand=True)[1]\n",
        "salaries_df['Amount'] = salaries_df['Salary'].str.split(\"/\", n=1, expand=True)[0].str.slice(start=1)"
      ],
      "metadata": {
        "id": "Yz3BiZpPWbUy"
      },
      "execution_count": null,
      "outputs": []
    },
    {
      "cell_type": "code",
      "source": [
        "# Converting the salaries to float64 and removing the commas\n",
        "\n",
        "salaries_df['Amount'] = salaries_df['Amount'].str.replace(',', '')  \n",
        "td = salaries_df.loc[salaries_df[\"Currency\"]==\"A\"].index\n",
        "salaries_df = salaries_df.drop(td, axis=0)\n",
        "\n",
        "salaries_df['Amount'] = salaries_df['Amount'].astype(float)"
      ],
      "metadata": {
        "id": "2o-vQef3WbPX"
      },
      "execution_count": null,
      "outputs": []
    },
    {
      "cell_type": "code",
      "source": [
        "salaries_df['Currency'].unique()"
      ],
      "metadata": {
        "colab": {
          "base_uri": "https://localhost:8080/"
        },
        "id": "NGz5IWXm5uBW",
        "outputId": "69041e73-eb60-4f8b-c605-1b21c087e9b5"
      },
      "execution_count": null,
      "outputs": [
        {
          "output_type": "execute_result",
          "data": {
            "text/plain": [
              "array(['₹', '$', '£'], dtype=object)"
            ]
          },
          "metadata": {},
          "execution_count": 19
        }
      ]
    },
    {
      "cell_type": "code",
      "source": [
        "# Converting all salaries to Ruppees/Year\n",
        "\n",
        "salaries_df['Amount'].loc[salaries_df['Duration']=='mo'] = salaries_df['Amount'] * 12\n",
        "salaries_df['Amount'].loc[salaries_df['Duration']=='hr'] = salaries_df['Amount'] * 12 * 40\n",
        "\n",
        "salaries_df['Amount'].loc[salaries_df['Currency']=='£'] = salaries_df['Amount'] * 102.19\n",
        "salaries_df['Amount'].loc[salaries_df['Currency']=='$'] = salaries_df['Amount'] * 75.35"
      ],
      "metadata": {
        "colab": {
          "base_uri": "https://localhost:8080/"
        },
        "id": "V29awZuPuQDV",
        "outputId": "a75a56e8-deab-4212-91d7-96cd89a9ecd9"
      },
      "execution_count": null,
      "outputs": [
        {
          "output_type": "stream",
          "name": "stderr",
          "text": [
            "/usr/local/lib/python3.7/dist-packages/pandas/core/indexing.py:1732: SettingWithCopyWarning: \n",
            "A value is trying to be set on a copy of a slice from a DataFrame\n",
            "\n",
            "See the caveats in the documentation: https://pandas.pydata.org/pandas-docs/stable/user_guide/indexing.html#returning-a-view-versus-a-copy\n",
            "  self._setitem_single_block(indexer, value, name)\n"
          ]
        }
      ]
    },
    {
      "cell_type": "code",
      "source": [
        "salaries_df"
      ],
      "metadata": {
        "colab": {
          "base_uri": "https://localhost:8080/",
          "height": 468
        },
        "id": "0pgeUj0XuQBE",
        "outputId": "2c34a3e9-97ef-4eff-fbec-2cc9b21d6514"
      },
      "execution_count": null,
      "outputs": [
        {
          "output_type": "execute_result",
          "data": {
            "text/html": [
              "\n",
              "  <div id=\"df-a35ad8f2-353f-481e-8a8e-c9df67291625\">\n",
              "    <div class=\"colab-df-container\">\n",
              "      <div>\n",
              "<style scoped>\n",
              "    .dataframe tbody tr th:only-of-type {\n",
              "        vertical-align: middle;\n",
              "    }\n",
              "\n",
              "    .dataframe tbody tr th {\n",
              "        vertical-align: top;\n",
              "    }\n",
              "\n",
              "    .dataframe thead th {\n",
              "        text-align: right;\n",
              "    }\n",
              "</style>\n",
              "<table border=\"1\" class=\"dataframe\">\n",
              "  <thead>\n",
              "    <tr style=\"text-align: right;\">\n",
              "      <th></th>\n",
              "      <th>Company Name</th>\n",
              "      <th>Job Title</th>\n",
              "      <th>Salaries Reported</th>\n",
              "      <th>Location</th>\n",
              "      <th>Salary</th>\n",
              "      <th>Currency</th>\n",
              "      <th>Duration</th>\n",
              "      <th>Amount</th>\n",
              "    </tr>\n",
              "  </thead>\n",
              "  <tbody>\n",
              "    <tr>\n",
              "      <th>0</th>\n",
              "      <td>Mu Sigma</td>\n",
              "      <td>Data Scientist</td>\n",
              "      <td>105.0</td>\n",
              "      <td>Bangalore</td>\n",
              "      <td>₹6,48,573/yr</td>\n",
              "      <td>₹</td>\n",
              "      <td>yr</td>\n",
              "      <td>648573.0</td>\n",
              "    </tr>\n",
              "    <tr>\n",
              "      <th>1</th>\n",
              "      <td>IBM</td>\n",
              "      <td>Data Scientist</td>\n",
              "      <td>95.0</td>\n",
              "      <td>Bangalore</td>\n",
              "      <td>₹11,91,950/yr</td>\n",
              "      <td>₹</td>\n",
              "      <td>yr</td>\n",
              "      <td>1191950.0</td>\n",
              "    </tr>\n",
              "    <tr>\n",
              "      <th>2</th>\n",
              "      <td>Tata Consultancy Services</td>\n",
              "      <td>Data Scientist</td>\n",
              "      <td>66.0</td>\n",
              "      <td>Bangalore</td>\n",
              "      <td>₹8,36,874/yr</td>\n",
              "      <td>₹</td>\n",
              "      <td>yr</td>\n",
              "      <td>836874.0</td>\n",
              "    </tr>\n",
              "    <tr>\n",
              "      <th>3</th>\n",
              "      <td>Impact Analytics</td>\n",
              "      <td>Data Scientist</td>\n",
              "      <td>40.0</td>\n",
              "      <td>Bangalore</td>\n",
              "      <td>₹6,69,578/yr</td>\n",
              "      <td>₹</td>\n",
              "      <td>yr</td>\n",
              "      <td>669578.0</td>\n",
              "    </tr>\n",
              "    <tr>\n",
              "      <th>4</th>\n",
              "      <td>Accenture</td>\n",
              "      <td>Data Scientist</td>\n",
              "      <td>32.0</td>\n",
              "      <td>Bangalore</td>\n",
              "      <td>₹9,44,110/yr</td>\n",
              "      <td>₹</td>\n",
              "      <td>yr</td>\n",
              "      <td>944110.0</td>\n",
              "    </tr>\n",
              "    <tr>\n",
              "      <th>...</th>\n",
              "      <td>...</td>\n",
              "      <td>...</td>\n",
              "      <td>...</td>\n",
              "      <td>...</td>\n",
              "      <td>...</td>\n",
              "      <td>...</td>\n",
              "      <td>...</td>\n",
              "      <td>...</td>\n",
              "    </tr>\n",
              "    <tr>\n",
              "      <th>4339</th>\n",
              "      <td>TaiyōAI</td>\n",
              "      <td>Machine Learning Scientist</td>\n",
              "      <td>1.0</td>\n",
              "      <td>Mumbai</td>\n",
              "      <td>₹5,180/mo</td>\n",
              "      <td>₹</td>\n",
              "      <td>mo</td>\n",
              "      <td>62160.0</td>\n",
              "    </tr>\n",
              "    <tr>\n",
              "      <th>4340</th>\n",
              "      <td>Decimal Point Analytics</td>\n",
              "      <td>Machine Learning Developer</td>\n",
              "      <td>1.0</td>\n",
              "      <td>Mumbai</td>\n",
              "      <td>₹7,51,286/yr</td>\n",
              "      <td>₹</td>\n",
              "      <td>yr</td>\n",
              "      <td>751286.0</td>\n",
              "    </tr>\n",
              "    <tr>\n",
              "      <th>4341</th>\n",
              "      <td>MyWays</td>\n",
              "      <td>Machine Learning Developer</td>\n",
              "      <td>1.0</td>\n",
              "      <td>Mumbai</td>\n",
              "      <td>₹4,10,952/yr</td>\n",
              "      <td>₹</td>\n",
              "      <td>yr</td>\n",
              "      <td>410952.0</td>\n",
              "    </tr>\n",
              "    <tr>\n",
              "      <th>4342</th>\n",
              "      <td>Market Pulse Technologies</td>\n",
              "      <td>Software Engineer - Machine Learning</td>\n",
              "      <td>1.0</td>\n",
              "      <td>Mumbai</td>\n",
              "      <td>₹16,12,324/yr</td>\n",
              "      <td>₹</td>\n",
              "      <td>yr</td>\n",
              "      <td>1612324.0</td>\n",
              "    </tr>\n",
              "    <tr>\n",
              "      <th>4343</th>\n",
              "      <td>vPhrase</td>\n",
              "      <td>Machine Learning Engineer</td>\n",
              "      <td>1.0</td>\n",
              "      <td>Mumbai</td>\n",
              "      <td>₹9,39,843/yr</td>\n",
              "      <td>₹</td>\n",
              "      <td>yr</td>\n",
              "      <td>939843.0</td>\n",
              "    </tr>\n",
              "  </tbody>\n",
              "</table>\n",
              "<p>4338 rows × 8 columns</p>\n",
              "</div>\n",
              "      <button class=\"colab-df-convert\" onclick=\"convertToInteractive('df-a35ad8f2-353f-481e-8a8e-c9df67291625')\"\n",
              "              title=\"Convert this dataframe to an interactive table.\"\n",
              "              style=\"display:none;\">\n",
              "        \n",
              "  <svg xmlns=\"http://www.w3.org/2000/svg\" height=\"24px\"viewBox=\"0 0 24 24\"\n",
              "       width=\"24px\">\n",
              "    <path d=\"M0 0h24v24H0V0z\" fill=\"none\"/>\n",
              "    <path d=\"M18.56 5.44l.94 2.06.94-2.06 2.06-.94-2.06-.94-.94-2.06-.94 2.06-2.06.94zm-11 1L8.5 8.5l.94-2.06 2.06-.94-2.06-.94L8.5 2.5l-.94 2.06-2.06.94zm10 10l.94 2.06.94-2.06 2.06-.94-2.06-.94-.94-2.06-.94 2.06-2.06.94z\"/><path d=\"M17.41 7.96l-1.37-1.37c-.4-.4-.92-.59-1.43-.59-.52 0-1.04.2-1.43.59L10.3 9.45l-7.72 7.72c-.78.78-.78 2.05 0 2.83L4 21.41c.39.39.9.59 1.41.59.51 0 1.02-.2 1.41-.59l7.78-7.78 2.81-2.81c.8-.78.8-2.07 0-2.86zM5.41 20L4 18.59l7.72-7.72 1.47 1.35L5.41 20z\"/>\n",
              "  </svg>\n",
              "      </button>\n",
              "      \n",
              "  <style>\n",
              "    .colab-df-container {\n",
              "      display:flex;\n",
              "      flex-wrap:wrap;\n",
              "      gap: 12px;\n",
              "    }\n",
              "\n",
              "    .colab-df-convert {\n",
              "      background-color: #E8F0FE;\n",
              "      border: none;\n",
              "      border-radius: 50%;\n",
              "      cursor: pointer;\n",
              "      display: none;\n",
              "      fill: #1967D2;\n",
              "      height: 32px;\n",
              "      padding: 0 0 0 0;\n",
              "      width: 32px;\n",
              "    }\n",
              "\n",
              "    .colab-df-convert:hover {\n",
              "      background-color: #E2EBFA;\n",
              "      box-shadow: 0px 1px 2px rgba(60, 64, 67, 0.3), 0px 1px 3px 1px rgba(60, 64, 67, 0.15);\n",
              "      fill: #174EA6;\n",
              "    }\n",
              "\n",
              "    [theme=dark] .colab-df-convert {\n",
              "      background-color: #3B4455;\n",
              "      fill: #D2E3FC;\n",
              "    }\n",
              "\n",
              "    [theme=dark] .colab-df-convert:hover {\n",
              "      background-color: #434B5C;\n",
              "      box-shadow: 0px 1px 3px 1px rgba(0, 0, 0, 0.15);\n",
              "      filter: drop-shadow(0px 1px 2px rgba(0, 0, 0, 0.3));\n",
              "      fill: #FFFFFF;\n",
              "    }\n",
              "  </style>\n",
              "\n",
              "      <script>\n",
              "        const buttonEl =\n",
              "          document.querySelector('#df-a35ad8f2-353f-481e-8a8e-c9df67291625 button.colab-df-convert');\n",
              "        buttonEl.style.display =\n",
              "          google.colab.kernel.accessAllowed ? 'block' : 'none';\n",
              "\n",
              "        async function convertToInteractive(key) {\n",
              "          const element = document.querySelector('#df-a35ad8f2-353f-481e-8a8e-c9df67291625');\n",
              "          const dataTable =\n",
              "            await google.colab.kernel.invokeFunction('convertToInteractive',\n",
              "                                                     [key], {});\n",
              "          if (!dataTable) return;\n",
              "\n",
              "          const docLinkHtml = 'Like what you see? Visit the ' +\n",
              "            '<a target=\"_blank\" href=https://colab.research.google.com/notebooks/data_table.ipynb>data table notebook</a>'\n",
              "            + ' to learn more about interactive tables.';\n",
              "          element.innerHTML = '';\n",
              "          dataTable['output_type'] = 'display_data';\n",
              "          await google.colab.output.renderOutput(dataTable, element);\n",
              "          const docLink = document.createElement('div');\n",
              "          docLink.innerHTML = docLinkHtml;\n",
              "          element.appendChild(docLink);\n",
              "        }\n",
              "      </script>\n",
              "    </div>\n",
              "  </div>\n",
              "  "
            ],
            "text/plain": [
              "                   Company Name  ...     Amount\n",
              "0                      Mu Sigma  ...   648573.0\n",
              "1                           IBM  ...  1191950.0\n",
              "2     Tata Consultancy Services  ...   836874.0\n",
              "3              Impact Analytics  ...   669578.0\n",
              "4                     Accenture  ...   944110.0\n",
              "...                         ...  ...        ...\n",
              "4339                    TaiyōAI  ...    62160.0\n",
              "4340    Decimal Point Analytics  ...   751286.0\n",
              "4341                     MyWays  ...   410952.0\n",
              "4342  Market Pulse Technologies  ...  1612324.0\n",
              "4343                    vPhrase  ...   939843.0\n",
              "\n",
              "[4338 rows x 8 columns]"
            ]
          },
          "metadata": {},
          "execution_count": 21
        }
      ]
    },
    {
      "cell_type": "markdown",
      "source": [
        "* Finally, all the salaries are in **Rupees per year** and have been converted to **floats**."
      ],
      "metadata": {
        "id": "GUDQSuPZ8q2m"
      }
    },
    {
      "cell_type": "code",
      "source": [
        "# Removing uneccesary columns\n",
        "\n",
        "salaries_df = salaries_df[['Company Name',\n",
        "                          'Job Title',\n",
        "                          'Salaries Reported',\n",
        "                          'Location',\n",
        "                          'Amount'\n",
        "                        ]]\n",
        "                        \n",
        "salaries_df['Salary'] = salaries_df['Amount']\n",
        "salaries_df = salaries_df.drop(columns=['Amount'])"
      ],
      "metadata": {
        "colab": {
          "base_uri": "https://localhost:8080/"
        },
        "id": "09-SneBe7ntP",
        "outputId": "aa64c655-d2bb-4ff2-db72-0bab16afff7c"
      },
      "execution_count": null,
      "outputs": [
        {
          "output_type": "stream",
          "name": "stderr",
          "text": [
            "/usr/local/lib/python3.7/dist-packages/ipykernel_launcher.py:10: SettingWithCopyWarning: \n",
            "A value is trying to be set on a copy of a slice from a DataFrame.\n",
            "Try using .loc[row_indexer,col_indexer] = value instead\n",
            "\n",
            "See the caveats in the documentation: https://pandas.pydata.org/pandas-docs/stable/user_guide/indexing.html#returning-a-view-versus-a-copy\n",
            "  # Remove the CWD from sys.path while we load stuff.\n"
          ]
        }
      ]
    },
    {
      "cell_type": "markdown",
      "source": [
        "**Prepping the 'Job Title' column**"
      ],
      "metadata": {
        "id": "DO4lwXEOC8z0"
      }
    },
    {
      "cell_type": "code",
      "source": [
        "salaries_df['Job Title'].unique()"
      ],
      "metadata": {
        "colab": {
          "base_uri": "https://localhost:8080/"
        },
        "id": "8luiVqbwC-dT",
        "outputId": "552d78b6-da26-47db-e097-7bc64be3f5ef"
      },
      "execution_count": null,
      "outputs": [
        {
          "output_type": "execute_result",
          "data": {
            "text/plain": [
              "array(['Data Scientist', 'Data Science Associate',\n",
              "       'Data Science Consultant', 'Data Science', 'Senior Data Scientist',\n",
              "       'Junior Data Scientist', 'Lead Data Scientist',\n",
              "       'Data Science Manager', 'Data Scientist - Trainee',\n",
              "       'Data Science Lead', 'Data Analyst', 'Data Engineer',\n",
              "       'Machine Learning Engineer', 'Machine Learning Software Engineer',\n",
              "       'Software Engineer - Machine Learning',\n",
              "       'Machine Learning Consultant', 'Machine Learning Data Associate',\n",
              "       'Machine Learning Data Associate I', 'Machine Learning Associate',\n",
              "       'Machine Learning Data Associate II',\n",
              "       'Associate Machine Learning Engineer',\n",
              "       'Machine Learning Data Analyst',\n",
              "       'Senior Machine Learning Engineer', 'Machine Learning Scientist',\n",
              "       'Machine Learning Developer'], dtype=object)"
            ]
          },
          "metadata": {},
          "execution_count": 23
        }
      ]
    },
    {
      "cell_type": "markdown",
      "source": [
        "* As you can see, there are a lot of jobs with different titles in the data industry.\n",
        "* Analysing and visualizing all of these columns at once is not a good approach.\n",
        "* It would be much better to reduce the number of variables and **categorize similar jobs into their respective sub domains**.\n"
      ],
      "metadata": {
        "id": "GJ8T_-jbdJ0e"
      }
    },
    {
      "cell_type": "code",
      "source": [
        "salaries_df['Field'] = 'Other'\n",
        "wData =  salaries_df['Job Title'].str.contains(\"Data\")\n",
        "wScience = salaries_df['Job Title'].str.contains(\"Science\")\n",
        "wScientist = salaries_df['Job Title'].str.contains(\"Scientist\")\n",
        "wMachine = salaries_df['Job Title'].str.contains(\"Machine\")\n",
        "wLearning = salaries_df['Job Title'].str.contains(\"Learning\")\n",
        "wEngineer = salaries_df['Job Title'].str.contains(\"Engineer\")\n",
        "wEngineering = salaries_df['Job Title'].str.contains(\"Engineering\")\n",
        "wAnalyst = salaries_df['Job Title'].str.contains(\"Analyst\")\n",
        "\n",
        "salaries_df['Field'].loc[wData & (wScience | wScientist) & ~wMachine] = 'Data Science'\n",
        "salaries_df['Field'].loc[wData & (wEngineer | wEngineering)] = 'Data Engineering'\n",
        "salaries_df['Field'].loc[wMachine & wLearning & ~(wData & wScientist)] = 'Machine Learning'\n",
        "salaries_df['Field'].loc[wData & wAnalyst & ~(wMachine | wScientist)] = 'Data Analysis'\n",
        "\n",
        "salaries_df['Level'] = 'Mid'\n",
        "\n",
        "wJunior =  salaries_df['Job Title'].str.contains(\"Junior\")\n",
        "wTrainee = salaries_df['Job Title'].str.contains(\"Trainee\")\n",
        "wConsultant = salaries_df['Job Title'].str.contains(\"Consultant\")\n",
        "wSenior = salaries_df['Job Title'].str.contains(\"Senior\")\n",
        "wLead = salaries_df['Job Title'].str.contains(\"Lead\")\n",
        "wManager = salaries_df['Job Title'].str.contains(\"Manager\")\n",
        "\n",
        "salaries_df['Level'].loc[wJunior | wTrainee] = 'Junior'\n",
        "salaries_df['Level'].loc[wConsultant] = 'Consultant'\n",
        "salaries_df['Level'].loc[wSenior] = 'Senior'\n",
        "salaries_df['Level'].loc[wManager| wLead] = 'Manager'"
      ],
      "metadata": {
        "colab": {
          "base_uri": "https://localhost:8080/"
        },
        "id": "dc9V3MDjG5o_",
        "outputId": "a49ff61f-d8f8-496a-8673-17b3046c41e5"
      },
      "execution_count": null,
      "outputs": [
        {
          "output_type": "stream",
          "name": "stderr",
          "text": [
            "/usr/local/lib/python3.7/dist-packages/pandas/core/indexing.py:1732: SettingWithCopyWarning: \n",
            "A value is trying to be set on a copy of a slice from a DataFrame\n",
            "\n",
            "See the caveats in the documentation: https://pandas.pydata.org/pandas-docs/stable/user_guide/indexing.html#returning-a-view-versus-a-copy\n",
            "  self._setitem_single_block(indexer, value, name)\n"
          ]
        }
      ]
    },
    {
      "cell_type": "markdown",
      "source": [
        "* Two new columns are created - `Field` (sub domain) and `Level`.\n",
        "* The **Field column** consists of the subdomains of the industry like data science, machine learning etc. It is made by parsing through the Job Title column. For example, if the title has the words Data and analyst, the subdomain would be Data Analysis.\n",
        "* The **Level column** consists of the seniority of the professionals like junior, senioir, manager etc. It is made by parsing through the Job Title Column. For example if the job title has the word Manager or Lead, the level would be Manager."
      ],
      "metadata": {
        "id": "qLuOlIXZhC4H"
      }
    },
    {
      "cell_type": "code",
      "source": [
        "salaries_df"
      ],
      "metadata": {
        "colab": {
          "base_uri": "https://localhost:8080/",
          "height": 424
        },
        "id": "oTzy5NnsHgVg",
        "outputId": "945aba06-9dea-4955-b78e-d2c9f247819f"
      },
      "execution_count": null,
      "outputs": [
        {
          "output_type": "execute_result",
          "data": {
            "text/html": [
              "\n",
              "  <div id=\"df-289868c1-5b24-4715-9918-101c5cf51001\">\n",
              "    <div class=\"colab-df-container\">\n",
              "      <div>\n",
              "<style scoped>\n",
              "    .dataframe tbody tr th:only-of-type {\n",
              "        vertical-align: middle;\n",
              "    }\n",
              "\n",
              "    .dataframe tbody tr th {\n",
              "        vertical-align: top;\n",
              "    }\n",
              "\n",
              "    .dataframe thead th {\n",
              "        text-align: right;\n",
              "    }\n",
              "</style>\n",
              "<table border=\"1\" class=\"dataframe\">\n",
              "  <thead>\n",
              "    <tr style=\"text-align: right;\">\n",
              "      <th></th>\n",
              "      <th>Company Name</th>\n",
              "      <th>Job Title</th>\n",
              "      <th>Salaries Reported</th>\n",
              "      <th>Location</th>\n",
              "      <th>Salary</th>\n",
              "      <th>Field</th>\n",
              "      <th>Level</th>\n",
              "    </tr>\n",
              "  </thead>\n",
              "  <tbody>\n",
              "    <tr>\n",
              "      <th>0</th>\n",
              "      <td>Mu Sigma</td>\n",
              "      <td>Data Scientist</td>\n",
              "      <td>105.0</td>\n",
              "      <td>Bangalore</td>\n",
              "      <td>648573.0</td>\n",
              "      <td>Data Science</td>\n",
              "      <td>Mid</td>\n",
              "    </tr>\n",
              "    <tr>\n",
              "      <th>1</th>\n",
              "      <td>IBM</td>\n",
              "      <td>Data Scientist</td>\n",
              "      <td>95.0</td>\n",
              "      <td>Bangalore</td>\n",
              "      <td>1191950.0</td>\n",
              "      <td>Data Science</td>\n",
              "      <td>Mid</td>\n",
              "    </tr>\n",
              "    <tr>\n",
              "      <th>2</th>\n",
              "      <td>Tata Consultancy Services</td>\n",
              "      <td>Data Scientist</td>\n",
              "      <td>66.0</td>\n",
              "      <td>Bangalore</td>\n",
              "      <td>836874.0</td>\n",
              "      <td>Data Science</td>\n",
              "      <td>Mid</td>\n",
              "    </tr>\n",
              "    <tr>\n",
              "      <th>3</th>\n",
              "      <td>Impact Analytics</td>\n",
              "      <td>Data Scientist</td>\n",
              "      <td>40.0</td>\n",
              "      <td>Bangalore</td>\n",
              "      <td>669578.0</td>\n",
              "      <td>Data Science</td>\n",
              "      <td>Mid</td>\n",
              "    </tr>\n",
              "    <tr>\n",
              "      <th>4</th>\n",
              "      <td>Accenture</td>\n",
              "      <td>Data Scientist</td>\n",
              "      <td>32.0</td>\n",
              "      <td>Bangalore</td>\n",
              "      <td>944110.0</td>\n",
              "      <td>Data Science</td>\n",
              "      <td>Mid</td>\n",
              "    </tr>\n",
              "    <tr>\n",
              "      <th>...</th>\n",
              "      <td>...</td>\n",
              "      <td>...</td>\n",
              "      <td>...</td>\n",
              "      <td>...</td>\n",
              "      <td>...</td>\n",
              "      <td>...</td>\n",
              "      <td>...</td>\n",
              "    </tr>\n",
              "    <tr>\n",
              "      <th>4339</th>\n",
              "      <td>TaiyōAI</td>\n",
              "      <td>Machine Learning Scientist</td>\n",
              "      <td>1.0</td>\n",
              "      <td>Mumbai</td>\n",
              "      <td>62160.0</td>\n",
              "      <td>Machine Learning</td>\n",
              "      <td>Mid</td>\n",
              "    </tr>\n",
              "    <tr>\n",
              "      <th>4340</th>\n",
              "      <td>Decimal Point Analytics</td>\n",
              "      <td>Machine Learning Developer</td>\n",
              "      <td>1.0</td>\n",
              "      <td>Mumbai</td>\n",
              "      <td>751286.0</td>\n",
              "      <td>Machine Learning</td>\n",
              "      <td>Mid</td>\n",
              "    </tr>\n",
              "    <tr>\n",
              "      <th>4341</th>\n",
              "      <td>MyWays</td>\n",
              "      <td>Machine Learning Developer</td>\n",
              "      <td>1.0</td>\n",
              "      <td>Mumbai</td>\n",
              "      <td>410952.0</td>\n",
              "      <td>Machine Learning</td>\n",
              "      <td>Mid</td>\n",
              "    </tr>\n",
              "    <tr>\n",
              "      <th>4342</th>\n",
              "      <td>Market Pulse Technologies</td>\n",
              "      <td>Software Engineer - Machine Learning</td>\n",
              "      <td>1.0</td>\n",
              "      <td>Mumbai</td>\n",
              "      <td>1612324.0</td>\n",
              "      <td>Machine Learning</td>\n",
              "      <td>Mid</td>\n",
              "    </tr>\n",
              "    <tr>\n",
              "      <th>4343</th>\n",
              "      <td>vPhrase</td>\n",
              "      <td>Machine Learning Engineer</td>\n",
              "      <td>1.0</td>\n",
              "      <td>Mumbai</td>\n",
              "      <td>939843.0</td>\n",
              "      <td>Machine Learning</td>\n",
              "      <td>Mid</td>\n",
              "    </tr>\n",
              "  </tbody>\n",
              "</table>\n",
              "<p>4338 rows × 7 columns</p>\n",
              "</div>\n",
              "      <button class=\"colab-df-convert\" onclick=\"convertToInteractive('df-289868c1-5b24-4715-9918-101c5cf51001')\"\n",
              "              title=\"Convert this dataframe to an interactive table.\"\n",
              "              style=\"display:none;\">\n",
              "        \n",
              "  <svg xmlns=\"http://www.w3.org/2000/svg\" height=\"24px\"viewBox=\"0 0 24 24\"\n",
              "       width=\"24px\">\n",
              "    <path d=\"M0 0h24v24H0V0z\" fill=\"none\"/>\n",
              "    <path d=\"M18.56 5.44l.94 2.06.94-2.06 2.06-.94-2.06-.94-.94-2.06-.94 2.06-2.06.94zm-11 1L8.5 8.5l.94-2.06 2.06-.94-2.06-.94L8.5 2.5l-.94 2.06-2.06.94zm10 10l.94 2.06.94-2.06 2.06-.94-2.06-.94-.94-2.06-.94 2.06-2.06.94z\"/><path d=\"M17.41 7.96l-1.37-1.37c-.4-.4-.92-.59-1.43-.59-.52 0-1.04.2-1.43.59L10.3 9.45l-7.72 7.72c-.78.78-.78 2.05 0 2.83L4 21.41c.39.39.9.59 1.41.59.51 0 1.02-.2 1.41-.59l7.78-7.78 2.81-2.81c.8-.78.8-2.07 0-2.86zM5.41 20L4 18.59l7.72-7.72 1.47 1.35L5.41 20z\"/>\n",
              "  </svg>\n",
              "      </button>\n",
              "      \n",
              "  <style>\n",
              "    .colab-df-container {\n",
              "      display:flex;\n",
              "      flex-wrap:wrap;\n",
              "      gap: 12px;\n",
              "    }\n",
              "\n",
              "    .colab-df-convert {\n",
              "      background-color: #E8F0FE;\n",
              "      border: none;\n",
              "      border-radius: 50%;\n",
              "      cursor: pointer;\n",
              "      display: none;\n",
              "      fill: #1967D2;\n",
              "      height: 32px;\n",
              "      padding: 0 0 0 0;\n",
              "      width: 32px;\n",
              "    }\n",
              "\n",
              "    .colab-df-convert:hover {\n",
              "      background-color: #E2EBFA;\n",
              "      box-shadow: 0px 1px 2px rgba(60, 64, 67, 0.3), 0px 1px 3px 1px rgba(60, 64, 67, 0.15);\n",
              "      fill: #174EA6;\n",
              "    }\n",
              "\n",
              "    [theme=dark] .colab-df-convert {\n",
              "      background-color: #3B4455;\n",
              "      fill: #D2E3FC;\n",
              "    }\n",
              "\n",
              "    [theme=dark] .colab-df-convert:hover {\n",
              "      background-color: #434B5C;\n",
              "      box-shadow: 0px 1px 3px 1px rgba(0, 0, 0, 0.15);\n",
              "      filter: drop-shadow(0px 1px 2px rgba(0, 0, 0, 0.3));\n",
              "      fill: #FFFFFF;\n",
              "    }\n",
              "  </style>\n",
              "\n",
              "      <script>\n",
              "        const buttonEl =\n",
              "          document.querySelector('#df-289868c1-5b24-4715-9918-101c5cf51001 button.colab-df-convert');\n",
              "        buttonEl.style.display =\n",
              "          google.colab.kernel.accessAllowed ? 'block' : 'none';\n",
              "\n",
              "        async function convertToInteractive(key) {\n",
              "          const element = document.querySelector('#df-289868c1-5b24-4715-9918-101c5cf51001');\n",
              "          const dataTable =\n",
              "            await google.colab.kernel.invokeFunction('convertToInteractive',\n",
              "                                                     [key], {});\n",
              "          if (!dataTable) return;\n",
              "\n",
              "          const docLinkHtml = 'Like what you see? Visit the ' +\n",
              "            '<a target=\"_blank\" href=https://colab.research.google.com/notebooks/data_table.ipynb>data table notebook</a>'\n",
              "            + ' to learn more about interactive tables.';\n",
              "          element.innerHTML = '';\n",
              "          dataTable['output_type'] = 'display_data';\n",
              "          await google.colab.output.renderOutput(dataTable, element);\n",
              "          const docLink = document.createElement('div');\n",
              "          docLink.innerHTML = docLinkHtml;\n",
              "          element.appendChild(docLink);\n",
              "        }\n",
              "      </script>\n",
              "    </div>\n",
              "  </div>\n",
              "  "
            ],
            "text/plain": [
              "                   Company Name  ... Level\n",
              "0                      Mu Sigma  ...   Mid\n",
              "1                           IBM  ...   Mid\n",
              "2     Tata Consultancy Services  ...   Mid\n",
              "3              Impact Analytics  ...   Mid\n",
              "4                     Accenture  ...   Mid\n",
              "...                         ...  ...   ...\n",
              "4339                    TaiyōAI  ...   Mid\n",
              "4340    Decimal Point Analytics  ...   Mid\n",
              "4341                     MyWays  ...   Mid\n",
              "4342  Market Pulse Technologies  ...   Mid\n",
              "4343                    vPhrase  ...   Mid\n",
              "\n",
              "[4338 rows x 7 columns]"
            ]
          },
          "metadata": {},
          "execution_count": 25
        }
      ]
    },
    {
      "cell_type": "markdown",
      "source": [
        "## **Exploratory Analysis, Visualization and Asking Questions**"
      ],
      "metadata": {
        "id": "lW7Ks83QCxMD"
      }
    },
    {
      "cell_type": "markdown",
      "source": [
        "* Now that the datset has been **cleaned** and **prepped**, it is now time to:\n",
        "    * Ask important questions to gather some insight.\n",
        "    * Visualize information by plotting charts and graphs.\n",
        "    * Analyse and extract information from the dataset.\n",
        "   "
      ],
      "metadata": {
        "id": "ctDwrybrkqon"
      }
    },
    {
      "cell_type": "markdown",
      "source": [
        "### **Q. Which company hires the most?**"
      ],
      "metadata": {
        "id": "gIoY1QqeilUX"
      }
    },
    {
      "cell_type": "code",
      "source": [
        "salaries_df['Company Name'].value_counts().head(10)"
      ],
      "metadata": {
        "colab": {
          "base_uri": "https://localhost:8080/"
        },
        "id": "kVXdXy9-zmTq",
        "outputId": "3957ed92-7d2f-4d4c-abab-9515c4036591"
      },
      "execution_count": null,
      "outputs": [
        {
          "output_type": "execute_result",
          "data": {
            "text/plain": [
              "Tata Consultancy Services         41\n",
              "Amazon                            31\n",
              "Accenture                         30\n",
              "Google                            27\n",
              "IBM                               26\n",
              "Fresher                           26\n",
              "First Student                     25\n",
              "Infosys                           23\n",
              "DONE by NONE                      21\n",
              "Cognizant Technology Solutions    21\n",
              "Name: Company Name, dtype: int64"
            ]
          },
          "metadata": {},
          "execution_count": 26
        }
      ]
    },
    {
      "cell_type": "code",
      "source": [
        "text = \" \".join(cat.split()[0] for cat in salaries_df['Company Name'])\n",
        "word_cloud = WordCloud(collocations = False,\n",
        "                       random_state = 10,\n",
        "                       background_color = 'white').generate(text)\n",
        "plt.imshow(word_cloud, interpolation='bilinear')\n",
        "plt.axis(\"off\")\n",
        "plt.title(\"(Companies that have the most positions)\")\n",
        "plt.show()\n"
      ],
      "metadata": {
        "colab": {
          "base_uri": "https://localhost:8080/",
          "height": 302
        },
        "id": "TkYAJ3NrrylB",
        "outputId": "52a2fc92-5a29-4271-ebf1-5fc5f021fc49"
      },
      "execution_count": null,
      "outputs": [
        {
          "output_type": "display_data",
          "data": {
            "image/png": "[encoded data removed]",
            "text/plain": [
              "<Figure size 648x360 with 1 Axes>"
            ]
          },
          "metadata": {
            "needs_background": "light"
          }
        }
      ]
    },
    {
      "cell_type": "markdown",
      "source": [
        "* (The word cloud is made from the first word of the companies: Tata - Tata Consultancy Services).\n",
        "* Looks like companies like **Amazon**, **Google**, **IBM**, **Fresher**, **Tata Consultancy Services** and more are having a lot of positions in the data domain. \n"
      ],
      "metadata": {
        "id": "IZZtOONWl60J"
      }
    },
    {
      "cell_type": "markdown",
      "source": [
        "### **Q. What are the different jobs in the data industry?**\n",
        "\n"
      ],
      "metadata": {
        "id": "m-3nH2ZiZmG2"
      }
    },
    {
      "cell_type": "code",
      "source": [
        "salaries_df['Job Title'].value_counts()"
      ],
      "metadata": {
        "colab": {
          "base_uri": "https://localhost:8080/"
        },
        "id": "DPUTBUZ1uzEZ",
        "outputId": "cc115a51-b120-4ad8-a4b1-0d313748f10f"
      },
      "execution_count": null,
      "outputs": [
        {
          "output_type": "execute_result",
          "data": {
            "text/plain": [
              "Data Scientist                          1844\n",
              "Data Analyst                             987\n",
              "Data Engineer                            804\n",
              "Machine Learning Engineer                568\n",
              "Data Science                              43\n",
              "Senior Data Scientist                     39\n",
              "Junior Data Scientist                     18\n",
              "Senior Machine Learning Engineer           9\n",
              "Lead Data Scientist                        6\n",
              "Machine Learning Scientist                 2\n",
              "Machine Learning Consultant                2\n",
              "Software Engineer - Machine Learning       2\n",
              "Machine Learning Developer                 2\n",
              "Data Science Associate                     1\n",
              "Machine Learning Software Engineer         1\n",
              "Data Science Consultant                    1\n",
              "Data Science Lead                          1\n",
              "Machine Learning Data Associate            1\n",
              "Machine Learning Data Associate I          1\n",
              "Machine Learning Associate                 1\n",
              "Machine Learning Data Associate II         1\n",
              "Associate Machine Learning Engineer        1\n",
              "Machine Learning Data Analyst              1\n",
              "Data Scientist - Trainee                   1\n",
              "Data Science Manager                       1\n",
              "Name: Job Title, dtype: int64"
            ]
          },
          "metadata": {},
          "execution_count": 28
        }
      ]
    },
    {
      "cell_type": "code",
      "source": [
        "salaries_df.Field.value_counts()"
      ],
      "metadata": {
        "colab": {
          "base_uri": "https://localhost:8080/"
        },
        "id": "TeWxXUWqZvGD",
        "outputId": "9c39705e-affb-4881-c70e-8cd39bc596ce"
      },
      "execution_count": null,
      "outputs": [
        {
          "output_type": "execute_result",
          "data": {
            "text/plain": [
              "Data Science        1955\n",
              "Data Analysis        987\n",
              "Data Engineering     804\n",
              "Machine Learning     592\n",
              "Name: Field, dtype: int64"
            ]
          },
          "metadata": {},
          "execution_count": 29
        }
      ]
    },
    {
      "cell_type": "code",
      "source": [
        "y = np.array([1955/4338, 987/4338, 804/4338, 592/4338])\n",
        "mylabels = [\"Data Science\", \"Data Analysis\", \"Data Engineering\", \"Machine Learning\"]\n",
        "myexplode = [0.2,0,0,0]\n",
        "\n",
        "plt.pie(y, labels = mylabels, explode = myexplode, shadow = True, startangle = -75, autopct='%.0f%%')\n",
        "plt.show() "
      ],
      "metadata": {
        "colab": {
          "base_uri": "https://localhost:8080/",
          "height": 303
        },
        "id": "_N4GbWbqpYqq",
        "outputId": "a2d263a1-1386-4fc7-dcfb-95a01e3c7caa"
      },
      "execution_count": null,
      "outputs": [
        {
          "output_type": "display_data",
          "data": {
            "image/png": "[encoded data removed]",
            "text/plain": [
              "<Figure size 648x360 with 1 Axes>"
            ]
          },
          "metadata": {}
        }
      ]
    },
    {
      "cell_type": "markdown",
      "source": [
        "* As you can see **Data Scientists** are making up the **majority** of the jobs in this industry.\n",
        "* But actually resposnisbilities of Data Scientists very commonly **overlaps** some or all of the other sub domains.\n",
        "* For example their work may include some data analysis and then making some machine learning models.\n",
        "* It is also possible for mutiple job titles to exist for the same work, but that is not very common."
      ],
      "metadata": {
        "id": "w-x8OSIkndjZ"
      }
    },
    {
      "cell_type": "markdown",
      "source": [
        "### **Q. What company pays the highest salaries and what are they?**\n"
      ],
      "metadata": {
        "id": "SUUCH2EyC0ej"
      }
    },
    {
      "cell_type": "code",
      "source": [
        "salaries_df.sort_values('Salary', ascending = False).head(15)"
      ],
      "metadata": {
        "colab": {
          "base_uri": "https://localhost:8080/",
          "height": 520
        },
        "id": "YFPK9mXGC0FF",
        "outputId": "46aa68b5-2334-49df-c0e3-fcc38d79112e"
      },
      "execution_count": null,
      "outputs": [
        {
          "output_type": "execute_result",
          "data": {
            "text/html": [
              "\n",
              "  <div id=\"df-dcfabbdb-f331-40c1-8c7f-985a074a556c\">\n",
              "    <div class=\"colab-df-container\">\n",
              "      <div>\n",
              "<style scoped>\n",
              "    .dataframe tbody tr th:only-of-type {\n",
              "        vertical-align: middle;\n",
              "    }\n",
              "\n",
              "    .dataframe tbody tr th {\n",
              "        vertical-align: top;\n",
              "    }\n",
              "\n",
              "    .dataframe thead th {\n",
              "        text-align: right;\n",
              "    }\n",
              "</style>\n",
              "<table border=\"1\" class=\"dataframe\">\n",
              "  <thead>\n",
              "    <tr style=\"text-align: right;\">\n",
              "      <th></th>\n",
              "      <th>Company Name</th>\n",
              "      <th>Job Title</th>\n",
              "      <th>Salaries Reported</th>\n",
              "      <th>Location</th>\n",
              "      <th>Salary</th>\n",
              "      <th>Field</th>\n",
              "      <th>Level</th>\n",
              "    </tr>\n",
              "  </thead>\n",
              "  <tbody>\n",
              "    <tr>\n",
              "      <th>585</th>\n",
              "      <td>MiQ</td>\n",
              "      <td>Data Scientist</td>\n",
              "      <td>1.0</td>\n",
              "      <td>Bangalore</td>\n",
              "      <td>1.711480e+08</td>\n",
              "      <td>Data Science</td>\n",
              "      <td>Mid</td>\n",
              "    </tr>\n",
              "    <tr>\n",
              "      <th>3407</th>\n",
              "      <td>Cognizant Technology Solutions</td>\n",
              "      <td>Data Engineer</td>\n",
              "      <td>1.0</td>\n",
              "      <td>Hyderabad</td>\n",
              "      <td>1.226280e+08</td>\n",
              "      <td>Data Engineering</td>\n",
              "      <td>Mid</td>\n",
              "    </tr>\n",
              "    <tr>\n",
              "      <th>3285</th>\n",
              "      <td>Datametica</td>\n",
              "      <td>Data Engineer</td>\n",
              "      <td>1.0</td>\n",
              "      <td>Pune</td>\n",
              "      <td>1.037697e+08</td>\n",
              "      <td>Data Engineering</td>\n",
              "      <td>Mid</td>\n",
              "    </tr>\n",
              "    <tr>\n",
              "      <th>1115</th>\n",
              "      <td>Saama Technologies</td>\n",
              "      <td>Data Scientist</td>\n",
              "      <td>1.0</td>\n",
              "      <td>Pune</td>\n",
              "      <td>9.553304e+07</td>\n",
              "      <td>Data Science</td>\n",
              "      <td>Mid</td>\n",
              "    </tr>\n",
              "    <tr>\n",
              "      <th>1054</th>\n",
              "      <td>Tata Consultancy Services</td>\n",
              "      <td>Data Scientist</td>\n",
              "      <td>1.0</td>\n",
              "      <td>Pune</td>\n",
              "      <td>7.188321e+07</td>\n",
              "      <td>Data Science</td>\n",
              "      <td>Mid</td>\n",
              "    </tr>\n",
              "    <tr>\n",
              "      <th>3419</th>\n",
              "      <td>Cognizant Technology Solutions</td>\n",
              "      <td>Data Engineer</td>\n",
              "      <td>1.0</td>\n",
              "      <td>Hyderabad</td>\n",
              "      <td>6.178700e+07</td>\n",
              "      <td>Data Engineering</td>\n",
              "      <td>Mid</td>\n",
              "    </tr>\n",
              "    <tr>\n",
              "      <th>1865</th>\n",
              "      <td>DONE by NONE</td>\n",
              "      <td>Data Scientist</td>\n",
              "      <td>1.0</td>\n",
              "      <td>Mumbai</td>\n",
              "      <td>4.554184e+07</td>\n",
              "      <td>Data Science</td>\n",
              "      <td>Mid</td>\n",
              "    </tr>\n",
              "    <tr>\n",
              "      <th>1869</th>\n",
              "      <td>Bharti Airtel</td>\n",
              "      <td>Data Scientist</td>\n",
              "      <td>1.0</td>\n",
              "      <td>Mumbai</td>\n",
              "      <td>4.554162e+07</td>\n",
              "      <td>Data Science</td>\n",
              "      <td>Mid</td>\n",
              "    </tr>\n",
              "    <tr>\n",
              "      <th>2486</th>\n",
              "      <td>Genpact</td>\n",
              "      <td>Data Analyst</td>\n",
              "      <td>1.0</td>\n",
              "      <td>Hyderabad</td>\n",
              "      <td>3.870654e+07</td>\n",
              "      <td>Data Analysis</td>\n",
              "      <td>Mid</td>\n",
              "    </tr>\n",
              "    <tr>\n",
              "      <th>658</th>\n",
              "      <td>Infosys</td>\n",
              "      <td>Data Scientist</td>\n",
              "      <td>1.0</td>\n",
              "      <td>Bangalore</td>\n",
              "      <td>3.855004e+07</td>\n",
              "      <td>Data Science</td>\n",
              "      <td>Mid</td>\n",
              "    </tr>\n",
              "    <tr>\n",
              "      <th>3442</th>\n",
              "      <td>ServiceNow</td>\n",
              "      <td>Data Engineer</td>\n",
              "      <td>1.0</td>\n",
              "      <td>Hyderabad</td>\n",
              "      <td>3.353045e+07</td>\n",
              "      <td>Data Engineering</td>\n",
              "      <td>Mid</td>\n",
              "    </tr>\n",
              "    <tr>\n",
              "      <th>1070</th>\n",
              "      <td>WNS</td>\n",
              "      <td>Data Scientist</td>\n",
              "      <td>1.0</td>\n",
              "      <td>Pune</td>\n",
              "      <td>2.095396e+07</td>\n",
              "      <td>Data Science</td>\n",
              "      <td>Mid</td>\n",
              "    </tr>\n",
              "    <tr>\n",
              "      <th>900</th>\n",
              "      <td>L Brands</td>\n",
              "      <td>Data Scientist</td>\n",
              "      <td>1.0</td>\n",
              "      <td>Bangalore</td>\n",
              "      <td>1.880795e+07</td>\n",
              "      <td>Data Science</td>\n",
              "      <td>Mid</td>\n",
              "    </tr>\n",
              "    <tr>\n",
              "      <th>415</th>\n",
              "      <td>ICICI Bank</td>\n",
              "      <td>Data Scientist</td>\n",
              "      <td>1.0</td>\n",
              "      <td>Bangalore</td>\n",
              "      <td>1.694983e+07</td>\n",
              "      <td>Data Science</td>\n",
              "      <td>Mid</td>\n",
              "    </tr>\n",
              "    <tr>\n",
              "      <th>419</th>\n",
              "      <td>Hashworks</td>\n",
              "      <td>Data Scientist</td>\n",
              "      <td>1.0</td>\n",
              "      <td>Bangalore</td>\n",
              "      <td>1.612206e+07</td>\n",
              "      <td>Data Science</td>\n",
              "      <td>Mid</td>\n",
              "    </tr>\n",
              "  </tbody>\n",
              "</table>\n",
              "</div>\n",
              "      <button class=\"colab-df-convert\" onclick=\"convertToInteractive('df-dcfabbdb-f331-40c1-8c7f-985a074a556c')\"\n",
              "              title=\"Convert this dataframe to an interactive table.\"\n",
              "              style=\"display:none;\">\n",
              "        \n",
              "  <svg xmlns=\"http://www.w3.org/2000/svg\" height=\"24px\"viewBox=\"0 0 24 24\"\n",
              "       width=\"24px\">\n",
              "    <path d=\"M0 0h24v24H0V0z\" fill=\"none\"/>\n",
              "    <path d=\"M18.56 5.44l.94 2.06.94-2.06 2.06-.94-2.06-.94-.94-2.06-.94 2.06-2.06.94zm-11 1L8.5 8.5l.94-2.06 2.06-.94-2.06-.94L8.5 2.5l-.94 2.06-2.06.94zm10 10l.94 2.06.94-2.06 2.06-.94-2.06-.94-.94-2.06-.94 2.06-2.06.94z\"/><path d=\"M17.41 7.96l-1.37-1.37c-.4-.4-.92-.59-1.43-.59-.52 0-1.04.2-1.43.59L10.3 9.45l-7.72 7.72c-.78.78-.78 2.05 0 2.83L4 21.41c.39.39.9.59 1.41.59.51 0 1.02-.2 1.41-.59l7.78-7.78 2.81-2.81c.8-.78.8-2.07 0-2.86zM5.41 20L4 18.59l7.72-7.72 1.47 1.35L5.41 20z\"/>\n",
              "  </svg>\n",
              "      </button>\n",
              "      \n",
              "  <style>\n",
              "    .colab-df-container {\n",
              "      display:flex;\n",
              "      flex-wrap:wrap;\n",
              "      gap: 12px;\n",
              "    }\n",
              "\n",
              "    .colab-df-convert {\n",
              "      background-color: #E8F0FE;\n",
              "      border: none;\n",
              "      border-radius: 50%;\n",
              "      cursor: pointer;\n",
              "      display: none;\n",
              "      fill: #1967D2;\n",
              "      height: 32px;\n",
              "      padding: 0 0 0 0;\n",
              "      width: 32px;\n",
              "    }\n",
              "\n",
              "    .colab-df-convert:hover {\n",
              "      background-color: #E2EBFA;\n",
              "      box-shadow: 0px 1px 2px rgba(60, 64, 67, 0.3), 0px 1px 3px 1px rgba(60, 64, 67, 0.15);\n",
              "      fill: #174EA6;\n",
              "    }\n",
              "\n",
              "    [theme=dark] .colab-df-convert {\n",
              "      background-color: #3B4455;\n",
              "      fill: #D2E3FC;\n",
              "    }\n",
              "\n",
              "    [theme=dark] .colab-df-convert:hover {\n",
              "      background-color: #434B5C;\n",
              "      box-shadow: 0px 1px 3px 1px rgba(0, 0, 0, 0.15);\n",
              "      filter: drop-shadow(0px 1px 2px rgba(0, 0, 0, 0.3));\n",
              "      fill: #FFFFFF;\n",
              "    }\n",
              "  </style>\n",
              "\n",
              "      <script>\n",
              "        const buttonEl =\n",
              "          document.querySelector('#df-dcfabbdb-f331-40c1-8c7f-985a074a556c button.colab-df-convert');\n",
              "        buttonEl.style.display =\n",
              "          google.colab.kernel.accessAllowed ? 'block' : 'none';\n",
              "\n",
              "        async function convertToInteractive(key) {\n",
              "          const element = document.querySelector('#df-dcfabbdb-f331-40c1-8c7f-985a074a556c');\n",
              "          const dataTable =\n",
              "            await google.colab.kernel.invokeFunction('convertToInteractive',\n",
              "                                                     [key], {});\n",
              "          if (!dataTable) return;\n",
              "\n",
              "          const docLinkHtml = 'Like what you see? Visit the ' +\n",
              "            '<a target=\"_blank\" href=https://colab.research.google.com/notebooks/data_table.ipynb>data table notebook</a>'\n",
              "            + ' to learn more about interactive tables.';\n",
              "          element.innerHTML = '';\n",
              "          dataTable['output_type'] = 'display_data';\n",
              "          await google.colab.output.renderOutput(dataTable, element);\n",
              "          const docLink = document.createElement('div');\n",
              "          docLink.innerHTML = docLinkHtml;\n",
              "          element.appendChild(docLink);\n",
              "        }\n",
              "      </script>\n",
              "    </div>\n",
              "  </div>\n",
              "  "
            ],
            "text/plain": [
              "                        Company Name       Job Title  ...             Field Level\n",
              "585                              MiQ  Data Scientist  ...      Data Science   Mid\n",
              "3407  Cognizant Technology Solutions   Data Engineer  ...  Data Engineering   Mid\n",
              "3285                      Datametica   Data Engineer  ...  Data Engineering   Mid\n",
              "1115              Saama Technologies  Data Scientist  ...      Data Science   Mid\n",
              "1054       Tata Consultancy Services  Data Scientist  ...      Data Science   Mid\n",
              "3419  Cognizant Technology Solutions   Data Engineer  ...  Data Engineering   Mid\n",
              "1865                    DONE by NONE  Data Scientist  ...      Data Science   Mid\n",
              "1869                   Bharti Airtel  Data Scientist  ...      Data Science   Mid\n",
              "2486                         Genpact    Data Analyst  ...     Data Analysis   Mid\n",
              "658                          Infosys  Data Scientist  ...      Data Science   Mid\n",
              "3442                      ServiceNow   Data Engineer  ...  Data Engineering   Mid\n",
              "1070                             WNS  Data Scientist  ...      Data Science   Mid\n",
              "900                         L Brands  Data Scientist  ...      Data Science   Mid\n",
              "415                       ICICI Bank  Data Scientist  ...      Data Science   Mid\n",
              "419                        Hashworks  Data Scientist  ...      Data Science   Mid\n",
              "\n",
              "[15 rows x 7 columns]"
            ]
          },
          "metadata": {},
          "execution_count": 31
        }
      ]
    },
    {
      "cell_type": "markdown",
      "source": [
        "* Looks like the salaries are **very high** at the top level!\n",
        "* The highest salary is **₹17 Crores** (17,11,48,000).\n",
        "* The highest salaries are ranging from about **₹10 Crores to ₹75 Lakhs** (10,00,00,000 - 75,00,000).\n",
        "* Though **only a handful of people** are making this amount of money.\n",
        "* These salaries are **unusually high**, the person might be a CEO, there might be a typing mistake or the values could be fake.\n",
        "* These are obviously **not an accurate represntation** of the rest.\n"
      ],
      "metadata": {
        "id": "oKF6AQF1AExT"
      }
    },
    {
      "cell_type": "code",
      "source": [
        "fig, axes = plt.subplots(1,2, figsize = (18,5))\n",
        "\n",
        "sns.boxplot(y = salaries_df.Salary,\n",
        "            ax = axes[0])\n",
        "\n",
        "sns.boxplot(y = salaries_df.Salary,\n",
        "            showfliers=False,\n",
        "            ax = axes[1])"
      ],
      "metadata": {
        "colab": {
          "base_uri": "https://localhost:8080/",
          "height": 335
        },
        "id": "RzM9u8xqwpfl",
        "outputId": "418a5bba-6d23-4a57-a4a5-7cc9b40ca4e4"
      },
      "execution_count": null,
      "outputs": [
        {
          "output_type": "execute_result",
          "data": {
            "text/plain": [
              "<matplotlib.axes._subplots.AxesSubplot at 0x7fb07486a790>"
            ]
          },
          "metadata": {},
          "execution_count": 32
        },
        {
          "output_type": "display_data",
          "data": {
            "image/png": "[encoded data removed]",
            "text/plain": [
              "<Figure size 1296x360 with 2 Axes>"
            ]
          },
          "metadata": {
            "needs_background": "light"
          }
        }
      ]
    },
    {
      "cell_type": "markdown",
      "source": [
        "* The highest salaries are **way above the mean or median**.\n",
        "* You cant even see the box plot with them included.\n",
        "* The second box plot does give some insight with the highest salaries removed.\n",
        "* It might be more insightful to know about the **distribution of all salaries** across a more realistic range."
      ],
      "metadata": {
        "id": "zwyIu806r13y"
      }
    },
    {
      "cell_type": "markdown",
      "source": [
        "### **Q. What is the distribution of salaries?**"
      ],
      "metadata": {
        "id": "hR-5adfSnDPw"
      }
    },
    {
      "cell_type": "code",
      "source": [
        "ds_df = salaries_df[salaries_df.Field == 'Data Science']\n",
        "da_df = salaries_df[salaries_df.Field == 'Data Analysis']\n",
        "de_df = salaries_df[salaries_df.Field == 'Data Engineering']\n",
        "ml_df = salaries_df[salaries_df.Field == 'Machine Learning']\n",
        "\n",
        "fig, axes = plt.subplots(1,2, figsize = (18,5))\n",
        "\n",
        "axes[0].hist(salaries_df.Salary, bins = np.arange(0,10000000,500000));\n",
        "axes[0].set_title(\"Distribution of all Salaries upto ₹1 Crore (1,00,00,000)\")\n",
        "axes[0].set_xlabel(\"(₹5,00,000 increments)\")\n",
        "axes[0].set_ylabel(\"(Number of Salaries)\")\n",
        "\n",
        "axes[1].hist([ds_df.Salary,da_df.Salary, de_df.Salary, ml_df.Salary], \n",
        "         bins = np.arange(0,10000000,500000), \n",
        "         stacked=True);\n",
        "axes[1].set_title(\"Distribution per domain upto ₹1 Crore (1,00,00,000)\")\n",
        "axes[1].set_xlabel(\"(₹5,00,000 increments)\")\n",
        "axes[1].set_ylabel(\"(Number of Salaries)\")\n",
        "axes[1].legend(['Data Science', 'Data Analysis', 'Data Engineering', 'Machine Learning']);"
      ],
      "metadata": {
        "colab": {
          "base_uri": "https://localhost:8080/",
          "height": 454
        },
        "id": "Y6LIfRO-n4c2",
        "outputId": "ba3e2ce0-a8e6-429b-a56f-4955ba40c705"
      },
      "execution_count": null,
      "outputs": [
        {
          "output_type": "stream",
          "name": "stderr",
          "text": [
            "/usr/local/lib/python3.7/dist-packages/numpy/core/fromnumeric.py:3208: VisibleDeprecationWarning: Creating an ndarray from ragged nested sequences (which is a list-or-tuple of lists-or-tuples-or ndarrays with different lengths or shapes) is deprecated. If you meant to do this, you must specify 'dtype=object' when creating the ndarray.\n",
            "  return asarray(a).size\n",
            "/usr/local/lib/python3.7/dist-packages/matplotlib/cbook/__init__.py:1376: VisibleDeprecationWarning: Creating an ndarray from ragged nested sequences (which is a list-or-tuple of lists-or-tuples-or ndarrays with different lengths or shapes) is deprecated. If you meant to do this, you must specify 'dtype=object' when creating the ndarray.\n",
            "  X = np.atleast_1d(X.T if isinstance(X, np.ndarray) else np.asarray(X))\n"
          ]
        },
        {
          "output_type": "display_data",
          "data": {
            "image/png": "[encoded data removed]",
            "text/plain": [
              "<Figure size 1296x360 with 2 Axes>"
            ]
          },
          "metadata": {
            "needs_background": "light"
          }
        }
      ]
    },
    {
      "cell_type": "markdown",
      "source": [
        "* **90-95%** of people are making under **₹20 Lakhs** (20,00,000).\n",
        "* You can see how the highest salaries give a **skewed represntation** of the industry, while the reality is quite different.\n",
        "* Its better to class the highest salaries as the **outliers** and **remove them** when making a general inference or statement."
      ],
      "metadata": {
        "id": "dMfUb6PaLK82"
      }
    },
    {
      "cell_type": "markdown",
      "source": [
        "### **Q. What is the average and median Salaries by Fields?**"
      ],
      "metadata": {
        "id": "sPcLIvYo27fK"
      }
    },
    {
      "cell_type": "code",
      "source": [
        "mean_by_field = salaries_df.groupby('Field')[['Salary']].agg('mean').reset_index().sort_values('Salary', ascending=False)\n",
        "median_by_field = salaries_df.groupby('Field')[['Salary']].agg('median').reset_index().sort_values('Salary', ascending=False)\n",
        "\n",
        "fig, axes = plt.subplots(1,2, figsize = (16,7))\n",
        "\n",
        "axes[0].bar(mean_by_field['Field'],\n",
        "            mean_by_field['Salary'],\n",
        "            linewidth='0.5',\n",
        "            color  = [\"tomato\",\"salmon\",\"lightsalmon\",\"peachpuff\"])\n",
        "axes[0].set_ylabel('Yearly Salary (Rupees)')\n",
        "axes[0].set_title('Average Yearly Salary by Field')\n",
        "axes[0].tick_params('x', labelrotation=30)\n",
        "\n",
        "axes[1].bar(median_by_field['Field'],\n",
        "            median_by_field['Salary'],\n",
        "            linewidth='0.5',           \n",
        "            color  = [\"seagreen\",\"mediumseagreen\",\"mediumaquamarine\",\"aquamarine\"])\n",
        "axes[1].set_ylabel('Yearly Salary (Rupees)')\n",
        "axes[1].set_title('Median Yearly Salary by Field')\n",
        "axes[1].tick_params('x', labelrotation=30)\n",
        "\n",
        "plt.tight_layout(pad = 4);"
      ],
      "metadata": {
        "id": "iPux4y_EihwX",
        "colab": {
          "base_uri": "https://localhost:8080/",
          "height": 423
        },
        "outputId": "4ba2d8f5-9376-471d-84ca-9425cf8b9f6f"
      },
      "execution_count": null,
      "outputs": [
        {
          "output_type": "display_data",
          "data": {
            "image/png": "[encoded data removed]",
            "text/plain": [
              "<Figure size 1152x504 with 2 Axes>"
            ]
          },
          "metadata": {
            "needs_background": "light"
          }
        }
      ]
    },
    {
      "cell_type": "markdown",
      "source": [
        "* Proffesionals in the **Data Science** field are making **significantly more** than people in the other domains.\n",
        "* The median range from just under **₹10 lakhs - ₹5 lakhs** (10,00,000 - 5,00,000)\n",
        "* Here it is **better to look at the median** yearly salary than the average.\n",
        "* Because the **average is heavily affected by the outliers** inthe data, while the median is not."
      ],
      "metadata": {
        "id": "a5ZXxV3wsgnU"
      }
    },
    {
      "cell_type": "markdown",
      "source": [
        "### **Q. Which location pays the most salary?**"
      ],
      "metadata": {
        "id": "rJYv3y6Dxwoc"
      }
    },
    {
      "cell_type": "code",
      "source": [
        "plt.title('Salaries According to Location and Domain')\n",
        "\n",
        "sns.barplot(x=salaries_df.Location,\n",
        "            y=salaries_df.Salary,\n",
        "            data = salaries_df);"
      ],
      "metadata": {
        "colab": {
          "base_uri": "https://localhost:8080/",
          "height": 362
        },
        "id": "Yz2RfBtatPX9",
        "outputId": "72beb42d-478d-47d2-8a31-486d6d0cc0c7"
      },
      "execution_count": null,
      "outputs": [
        {
          "output_type": "display_data",
          "data": {
            "image/png": "[encoded data removed]",
            "text/plain": [
              "<Figure size 648x360 with 1 Axes>"
            ]
          },
          "metadata": {
            "needs_background": "light"
          }
        }
      ]
    },
    {
      "cell_type": "markdown",
      "source": [
        "* Looks like **Pune**, **Bangalore** and **Hyderabad** offer higher salaries, around ₹12 lakhs (12,00,000).\n",
        "* But these values are being **affected by the outliers**, so the actual average might be slightly less"
      ],
      "metadata": {
        "id": "joVl06x3uawl"
      }
    },
    {
      "cell_type": "code",
      "source": [
        "plt.figure(figsize=(16, 8))\n",
        "plt.title('Salaries According to Location and Domain')\n",
        "\n",
        "sns.barplot(x=salaries_df.Location,\n",
        "            y=salaries_df.Salary,\n",
        "            hue=salaries_df.Field,\n",
        "            data = salaries_df);"
      ],
      "metadata": {
        "colab": {
          "base_uri": "https://localhost:8080/",
          "height": 525
        },
        "id": "y-ZCHif6x8vs",
        "outputId": "b2dfa225-0334-490f-ddd3-757f5d23eafc"
      },
      "execution_count": null,
      "outputs": [
        {
          "output_type": "display_data",
          "data": {
            "image/png": "[encoded data removed]",
            "text/plain": [
              "<Figure size 1152x576 with 1 Axes>"
            ]
          },
          "metadata": {
            "needs_background": "light"
          }
        }
      ]
    },
    {
      "cell_type": "markdown",
      "source": [
        "### **Q. What are the salaries according to the seniority level?**"
      ],
      "metadata": {
        "id": "prQnYfRjhR1S"
      }
    },
    {
      "cell_type": "code",
      "source": [
        "mean_by_level = salaries_df.groupby(['Level'])[['Level','Salary']].agg('mean').reset_index().sort_values('Salary', ascending=True)\n",
        "plt.bar(mean_by_level['Level'],\n",
        "        mean_by_level['Salary'],\n",
        "        color  = [\"powderblue\",\"lightblue\",\"darkturquoise\",\"cadetblue\", \"teal\"])\n",
        "plt.xlabel('')\n",
        "plt.ylabel('Yearly Salary (Rupees)')\n",
        "plt.title('Average Yearly Salary by Field')\n",
        "plt.xticks(rotation='45')\n",
        "plt.show()"
      ],
      "metadata": {
        "colab": {
          "base_uri": "https://localhost:8080/",
          "height": 393
        },
        "id": "OCF00sqshQtR",
        "outputId": "9cc5fade-94cc-4f55-e88f-9a672218cf71"
      },
      "execution_count": null,
      "outputs": [
        {
          "output_type": "display_data",
          "data": {
            "image/png": "[encoded data removed]",
            "text/plain": [
              "<Figure size 648x360 with 1 Axes>"
            ]
          },
          "metadata": {
            "needs_background": "light"
          }
        }
      ]
    },
    {
      "cell_type": "markdown",
      "source": [
        "* The **entry point** to jobs in the data space is around **₹6 lakhs** (6,00,00), though this might be slightly affected by the lowest yearly salaries, which were not jobs, but actually internships that paid only ₹5-10k per moth.\n",
        "* If you work hard and become a **manager** or a **senior**, you can expect to earn in the range of **₹15-25 lakhs** (15,00,000 - 25,00,000)."
      ],
      "metadata": {
        "id": "sGaj5_dQP7Ge"
      }
    },
    {
      "cell_type": "markdown",
      "metadata": {
        "id": "RkOCXmWlxXZ6"
      },
      "source": [
        "## **Inferences and Conclusion**\n",
        "\n",
        "* Here is the summary of the analysis done up until now:\n",
        "    * There are a lot of jobs in the data industry, with companies like Amazon, Google, IBM, TCS etc. having a lot positions.\n",
        "    * The general range of salaries (all levels) is about ₹6 - ₹25 Lakhs.\n",
        "    * The jobs in the Data Science subdomain pay more than the other domains, while jobs in Data Analysis pay the least.\n",
        "    * IT hubs like Pune, Bangalore and Hyderabad are great places to work in whith slightly higher pay than the other cites.\n",
        "    * If you work hard and smartly, there is good growth in this industry with a substantial increase in pay as well."
      ]
    },
    {
      "cell_type": "markdown",
      "metadata": {
        "id": "_hcYAudZxXZ6"
      },
      "source": [
        "## **References and Future Work**\n",
        "\n",
        "* I think further analysis can be done on this dataset, and some more information can be squeezed out. \n",
        "* It would be very interesting to compare all of the findings of this analysis in the data domain, to another domians like cyber security, web development, software engineering etc.\n",
        "\n",
        "* Course: https://jovian.ai/learn/data-analysis-with-python-zero-to-pandas\n",
        "* Dataset: https://www.kaggle.com/iamsouravbanerjee/analytics-industry-salaries-2022-india"
      ]
    },
    {
      "cell_type": "code",
      "execution_count": null,
      "metadata": {
        "id": "Ui5nVl6-xXZ7",
        "colab": {
          "base_uri": "https://localhost:8080/",
          "height": 129
        },
        "outputId": "add861f1-246d-4625-db9e-d52b2090ac8e"
      },
      "outputs": [
        {
          "output_type": "stream",
          "name": "stdout",
          "text": [
            "[jovian] Detected Colab notebook...\u001b[0m\n",
            "[jovian] Please enter your API key ( from https://jovian.ai/ ):\u001b[0m\n",
            "API KEY: ··········\n",
            "[jovian] Uploading colab notebook to Jovian...\u001b[0m\n",
            "Committed successfully! https://jovian.ai/aseemdandgaval1/eda-industy-salaries\n"
          ]
        },
        {
          "output_type": "execute_result",
          "data": {
            "application/vnd.google.colaboratory.intrinsic+json": {
              "type": "string"
            },
            "text/plain": [
              "'https://jovian.ai/aseemdandgaval1/eda-industy-salaries'"
            ]
          },
          "metadata": {},
          "execution_count": 5
        }
      ],
      "source": [
        "jovian.set_project('EDA_Industy_Salaries')\n",
        "jovian.set_colab_id('1Wp2nHd6WyeTM8AHh9QHSO03a_D1bHB20')\n",
        "jovian.commit()"
      ]
    },
    {
      "cell_type": "code",
      "source": [
        ""
      ],
      "metadata": {
        "id": "FqlRMP1Af46P"
      },
      "execution_count": null,
      "outputs": []
    }
  ],
  "metadata": {
    "kernelspec": {
      "display_name": "Python 3",
      "language": "python",
      "name": "python3"
    },
    "language_info": {
      "codemirror_mode": {
        "name": "ipython",
        "version": 3
      },
      "file_extension": ".py",
      "mimetype": "text/x-python",
      "name": "python",
      "nbconvert_exporter": "python",
      "pygments_lexer": "ipython3",
      "version": "3.8.5"
    },
    "colab": {
      "name": "EDA_Industy_Salaries.ipynb",
      "provenance": [],
      "collapsed_sections": [],
      "include_colab_link": true
    }
  },
  "nbformat": 4,
  "nbformat_minor": 0
}